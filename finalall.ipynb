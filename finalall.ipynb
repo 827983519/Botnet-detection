{
 "cells": [
  {
   "cell_type": "code",
   "execution_count": 1,
   "metadata": {},
   "outputs": [
    {
     "name": "stderr",
     "output_type": "stream",
     "text": [
      "Using TensorFlow backend.\n"
     ]
    }
   ],
   "source": [
    "import numpy as np\n",
    "from keras.utils import plot_model\n",
    "import pandas as pd\n",
    "import matplotlib.pyplot as plt\n",
    "from keras.models import Sequential\n",
    "import dpkt\n",
    "from keras.models import Model\n",
    "from dpkt.compat import compat_ord\n",
    "import binascii \n",
    "from keras.layers import Dense, Dropout, Flatten,LSTM,Input,Reshape,Embedding,Bidirectional\n",
    "from keras.layers import Conv2D, MaxPooling2D\n",
    "from keras.optimizers import SGD,Adam,RMSprop\n",
    "import keras\n",
    "from sklearn.metrics import classification_report,confusion_matrix,accuracy_score,recall_score\n",
    "from sklearn.utils import shuffle\n",
    "import seaborn as sns\n",
    "from sklearn.preprocessing import OneHotEncoder\n",
    "import os\n",
    "from keras.models import load_model"
   ]
  },
  {
   "cell_type": "code",
   "execution_count": 2,
   "metadata": {},
   "outputs": [],
   "source": [
    "malicious = ['147.32.84.180','147.32.84.170','147.32.84.160','147.32.84.150','147.32.84.140','147.32.84.130','10.0.2.15',\n",
    "'192.168.106.141', '192.168.106.131','172.16.253.130', '172.16.253.131', '172.16.253.129', '172.16.253.240',\n",
    "'74.78.117.238','158.65.110.24','192.168.3.35', '192.168.3.25', '192.168.3.65', '172.29.0.116','172.29.0.109',\n",
    "'172.16.253.132', '192.168.248.165','0.37.130.4']\n",
    "\n",
    "\n",
    "NSIS = ['147.32.84.165','147.32.84.191','147.32.84.192']\n",
    "\n",
    "IRC = [('192.168.2.112', '131.202.243.84'),('192.168.5.122' ,'198.164.30.2'),('192.168.2.110','192.168.5.122'),\n",
    "       ('192.168.4.118','192.168.5.122'),('192.168.2.113', '192.168.5.122'),('192.168.1.103' ,'192.168.5.122'),\n",
    "      ('192.168.4.120' , '192.168.5.122'),('192.168.2.112' , '192.168.2.110'),\n",
    "    ('192.168.2.112', '192.168.4.120'),\n",
    "    ('192.168.2.112', '192.168.1.103'),\n",
    "    ('192.168.2.112','192.168.2.113'),\n",
    "    ('192.168.2.112' ,'192.168.4.118'),\n",
    "    ('192.168.2.112' , '192.168.2.109'),\n",
    "    ('192.168.2.112' , '192.168.2.105'),\n",
    "    ('192.168.1.105','192.168.5.122')]\n",
    "\n",
    "\n",
    "IRC2 = ['192.168.2.112', '131.202.243.84','192.168.5.122' ,'198.164.30.2','192.168.2.110' , '192.168.5.122',\n",
    "       '192.168.4.118','192.168.5.122','192.168.2.113', '192.168.5.122','192.168.1.103' ,'192.168.5.122',\n",
    "      '192.168.4.120' , '192.168.5.122','192.168.2.112' , '192.168.2.110',\n",
    "    '192.168.2.112', '192.168.4.120',\n",
    "    '192.168.2.112', '192.168.1.103',\n",
    "    '192.168.2.112','192.168.2.113',\n",
    "    '192.168.2.112' ,'192.168.4.118',\n",
    "    '192.168.2.112' , '192.168.2.109',\n",
    "    '192.168.2.112' , '192.168.2.105',\n",
    "    '192.168.1.105','192.168.5.122']\n",
    "\n",
    "malicious_ips = [\n",
    "    \"192.168.2.112\", \"131.202.243.84\", \"192.168.5.122\", \"198.164.30.2\",\n",
    "    \"192.168.2.110\", \"192.168.5.122\", \"192.168.4.118\", \"192.168.5.122\",\n",
    "    \"192.168.2.113\", \"192.168.5.122\", \"192.168.1.103\", \"192.168.5.122\",\n",
    "    \"192.168.4.120\", \"192.168.5.122\", \"192.168.2.112\", \"192.168.2.110\",\n",
    "    \"192.168.2.112\", \"192.168.4.120\", \"192.168.2.112\", \"192.168.1.103\",\n",
    "    \"192.168.2.112\", \"192.168.2.113\", \"192.168.2.112\", \"192.168.4.118\",\n",
    "    \"192.168.2.112\", \"192.168.2.109\", \"192.168.2.112\", \"192.168.2.105\",\n",
    "    \"192.168.1.105\", \"192.168.5.122\", \"147.32.84.180\", \"147.32.84.170\",\n",
    "    \"147.32.84.150\", \"147.32.84.140\", \"147.32.84.130\", \"147.32.84.160\",\n",
    "    \"10.0.2.15\", \"192.168.106.141\", \"192.168.106.131\", \"172.16.253.130\",\n",
    "    \"172.16.253.131\", \"172.16.253.129\", \"172.16.253.240\", \"74.78.117.238\",\n",
    "    \"158.65.110.24\", \"192.168.3.35\", \"192.168.3.25\", \"192.168.3.65\",\n",
    "    \"172.29.0.116\", \"172.29.0.109\", \"172.16.253.132\", \"192.168.248.165\",\n",
    "    \"10.37.130.4\"\n",
    "]\n",
    "\n",
    "IRC1 = []\n",
    "for i in IRC:\n",
    "    IRC1.append((i[1],i[0]))\n",
    "IRC.extend(IRC1)\n"
   ]
  },
  {
   "cell_type": "code",
   "execution_count": 3,
   "metadata": {},
   "outputs": [],
   "source": [
    "def getType(x):\n",
    "    if x[0] in malicious_ips or x[1] in malicious_ips:\n",
    "        return 1\n",
    "    return 0\n",
    "\n",
    "def getType1(x):\n",
    "    if x[0] in malicious or x[1] in malicious or x in IRC:\n",
    "        return 1\n",
    "    return 0"
   ]
  },
  {
   "cell_type": "markdown",
   "metadata": {},
   "source": [
    "# My"
   ]
  },
  {
   "cell_type": "code",
   "execution_count": 4,
   "metadata": {},
   "outputs": [],
   "source": [
    "train = pd.read_csv('CNNtrain.csv',index_col=0)\n",
    "train.drop('index',axis=1,inplace=True)"
   ]
  },
  {
   "cell_type": "code",
   "execution_count": 3,
   "metadata": {},
   "outputs": [],
   "source": [
    "test = pd.read_csv('CNNtest.csv',index_col=0)\n",
    "test.drop('index',axis=1,inplace=True)"
   ]
  },
  {
   "cell_type": "code",
   "execution_count": 17,
   "metadata": {},
   "outputs": [],
   "source": [
    "y = train['label'].values"
   ]
  },
  {
   "cell_type": "code",
   "execution_count": 4,
   "metadata": {},
   "outputs": [],
   "source": [
    "label = test['label'].values"
   ]
  },
  {
   "cell_type": "code",
   "execution_count": 24,
   "metadata": {},
   "outputs": [
    {
     "data": {
      "text/plain": [
       "200334"
      ]
     },
     "execution_count": 24,
     "metadata": {},
     "output_type": "execute_result"
    }
   ],
   "source": [
    "len(train)"
   ]
  },
  {
   "cell_type": "code",
   "execution_count": 18,
   "metadata": {
    "scrolled": true
   },
   "outputs": [
    {
     "name": "stdout",
     "output_type": "stream",
     "text": [
      "Epoch 1/10\n",
      "200334/200334 [==============================] - 594s 3ms/step - loss: 0.0801 - acc: 0.9676\n",
      "Epoch 2/10\n",
      "200334/200334 [==============================] - 598s 3ms/step - loss: 0.0296 - acc: 0.9893\n",
      "Epoch 3/10\n",
      "200334/200334 [==============================] - 598s 3ms/step - loss: 0.0234 - acc: 0.9917\n",
      "Epoch 4/10\n",
      "200334/200334 [==============================] - 598s 3ms/step - loss: 0.0230 - acc: 0.9920\n",
      "Epoch 5/10\n",
      "200334/200334 [==============================] - 598s 3ms/step - loss: 0.0223 - acc: 0.9922\n",
      "Epoch 6/10\n",
      "200334/200334 [==============================] - 598s 3ms/step - loss: 0.0230 - acc: 0.9921\n",
      "Epoch 7/10\n",
      "200334/200334 [==============================] - 598s 3ms/step - loss: 0.0219 - acc: 0.9924\n",
      "Epoch 8/10\n",
      "200334/200334 [==============================] - 597s 3ms/step - loss: 0.0228 - acc: 0.9922\n",
      "Epoch 9/10\n",
      "200334/200334 [==============================] - 599s 3ms/step - loss: 0.0229 - acc: 0.9924\n",
      "Epoch 10/10\n",
      "200334/200334 [==============================] - 599s 3ms/step - loss: 0.0207 - acc: 0.9932\n"
     ]
    },
    {
     "data": {
      "text/plain": [
       "<keras.callbacks.History at 0x7f446826f978>"
      ]
     },
     "execution_count": 18,
     "metadata": {},
     "output_type": "execute_result"
    }
   ],
   "source": [
    "model = Sequential()\n",
    "model.add(Conv2D(32,(5,5),activation = 'relu',input_shape=(32,32,1),padding='same'))\n",
    "model.add(MaxPooling2D(pool_size=(2, 2),padding='same',strides=(2,2)))\n",
    "model.add(Conv2D(64,(5,5),activation = 'relu',padding='same'))\n",
    "model.add(MaxPooling2D(pool_size=(2,2),padding='same',strides=(2,2)))\n",
    "model.add(Flatten())\n",
    "model.add(Dropout(0.5))\n",
    "model.add(Dense(1024, activation='tanh'))\n",
    "model.add(Dense(10, activation='tanh'))\n",
    "model.add(Dense(2, activation='softmax'))\n",
    "# model.summary()\n",
    "\n",
    "rmsprop =RMSprop(lr=0.001, rho=0.9, epsilon=1e-08, decaay=0.0)\n",
    "\n",
    "adam = Adam(lr=0.001,beta_1=0.9,beta_2=0.999,epsilon=1e-8)\n",
    "sgd = SGD(lr=0.01, decay=1e-6, momentum=0.9, nesterov=True)\n",
    "# model.compile(loss='categorical_crossentropy', optimizer=adam)\n",
    "model.compile(optimizer=adam,\n",
    "              loss='categorical_crossentropy',\n",
    "              metrics=['accuracy'])\n",
    "\n",
    "model.fit((train.drop(['label','1024','src','dst'],axis=1)/255).values.reshape(200334,32,32,1), keras.utils.to_categorical(y.reshape(200334,1), num_classes=2), batch_size=50, epochs=10,shuffle=True)"
   ]
  },
  {
   "cell_type": "code",
   "execution_count": 5,
   "metadata": {},
   "outputs": [
    {
     "name": "stdout",
     "output_type": "stream",
     "text": [
      "WARNING:tensorflow:From /home/wade/.local/lib/python3.6/site-packages/tensorflow/python/framework/op_def_library.py:263: colocate_with (from tensorflow.python.framework.ops) is deprecated and will be removed in a future version.\n",
      "Instructions for updating:\n",
      "Colocations handled automatically by placer.\n",
      "WARNING:tensorflow:From /home/wade/.local/lib/python3.6/site-packages/keras/backend/tensorflow_backend.py:3445: calling dropout (from tensorflow.python.ops.nn_ops) with keep_prob is deprecated and will be removed in a future version.\n",
      "Instructions for updating:\n",
      "Please use `rate` instead of `keep_prob`. Rate should be set to `rate = 1 - keep_prob`.\n",
      "WARNING:tensorflow:From /home/wade/.local/lib/python3.6/site-packages/tensorflow/python/ops/math_ops.py:3066: to_int32 (from tensorflow.python.ops.math_ops) is deprecated and will be removed in a future version.\n",
      "Instructions for updating:\n",
      "Use tf.cast instead.\n"
     ]
    }
   ],
   "source": [
    "model = load_model('finalmy.h5')"
   ]
  },
  {
   "cell_type": "code",
   "execution_count": 14,
   "metadata": {
    "collapsed": true
   },
   "outputs": [
    {
     "name": "stdout",
     "output_type": "stream",
     "text": [
      "_________________________________________________________________\n",
      "Layer (type)                 Output Shape              Param #   \n",
      "=================================================================\n",
      "conv2d_3 (Conv2D)            (None, 32, 32, 32)        832       \n",
      "_________________________________________________________________\n",
      "max_pooling2d_3 (MaxPooling2 (None, 16, 16, 32)        0         \n",
      "_________________________________________________________________\n",
      "conv2d_4 (Conv2D)            (None, 16, 16, 64)        51264     \n",
      "_________________________________________________________________\n",
      "max_pooling2d_4 (MaxPooling2 (None, 8, 8, 64)          0         \n",
      "_________________________________________________________________\n",
      "flatten_2 (Flatten)          (None, 4096)              0         \n",
      "_________________________________________________________________\n",
      "dropout_2 (Dropout)          (None, 4096)              0         \n",
      "_________________________________________________________________\n",
      "dense_4 (Dense)              (None, 1024)              4195328   \n",
      "_________________________________________________________________\n",
      "dense_5 (Dense)              (None, 10)                10250     \n",
      "_________________________________________________________________\n",
      "dense_6 (Dense)              (None, 2)                 22        \n",
      "=================================================================\n",
      "Total params: 4,257,696\n",
      "Trainable params: 4,257,696\n",
      "Non-trainable params: 0\n",
      "_________________________________________________________________\n"
     ]
    }
   ],
   "source": [
    "model1.summary()"
   ]
  },
  {
   "cell_type": "code",
   "execution_count": 7,
   "metadata": {},
   "outputs": [],
   "source": [
    "out_my = model.predict_classes((test.drop(['label','1024','src','dst'],axis=1)/255).values.reshape(178395,32,32,1))"
   ]
  },
  {
   "cell_type": "code",
   "execution_count": 50,
   "metadata": {},
   "outputs": [
    {
     "name": "stdout",
     "output_type": "stream",
     "text": [
      "              precision    recall  f1-score   support\n",
      "\n",
      "           0       0.97      0.97      0.97     59782\n",
      "           1       0.99      0.98      0.98    118613\n",
      "\n",
      "   micro avg       0.98      0.98      0.98    178395\n",
      "   macro avg       0.98      0.98      0.98    178395\n",
      "weighted avg       0.98      0.98      0.98    178395\n",
      "\n"
     ]
    }
   ],
   "source": [
    "print(classification_report(label,out_my))"
   ]
  },
  {
   "cell_type": "code",
   "execution_count": 40,
   "metadata": {
    "scrolled": true
   },
   "outputs": [
    {
     "name": "stdout",
     "output_type": "stream",
     "text": [
      "[[ 58051   1731]\n",
      " [  1918 116695]]\n"
     ]
    }
   ],
   "source": [
    "print(confusion_matrix(label,out_my))"
   ]
  },
  {
   "cell_type": "code",
   "execution_count": 41,
   "metadata": {},
   "outputs": [
    {
     "data": {
      "text/plain": [
       "0.028955203907530695"
      ]
     },
     "execution_count": 41,
     "metadata": {},
     "output_type": "execute_result"
    }
   ],
   "source": [
    "1731/(1731+58051)"
   ]
  },
  {
   "cell_type": "code",
   "execution_count": 38,
   "metadata": {},
   "outputs": [
    {
     "data": {
      "text/plain": [
       "0.9838297657086491"
      ]
     },
     "execution_count": 38,
     "metadata": {},
     "output_type": "execute_result"
    }
   ],
   "source": [
    "recall_score(label,out_my)"
   ]
  },
  {
   "cell_type": "code",
   "execution_count": 51,
   "metadata": {
    "scrolled": true
   },
   "outputs": [
    {
     "data": {
      "text/plain": [
       "0.979545390846156"
      ]
     },
     "execution_count": 51,
     "metadata": {},
     "output_type": "execute_result"
    }
   ],
   "source": [
    "accuracy_score(label,out_my)\n"
   ]
  },
  {
   "cell_type": "code",
   "execution_count": 52,
   "metadata": {
    "scrolled": true
   },
   "outputs": [
    {
     "data": {
      "text/plain": [
       "<matplotlib.axes._subplots.AxesSubplot at 0x7f4404471e48>"
      ]
     },
     "execution_count": 52,
     "metadata": {},
     "output_type": "execute_result"
    },
    {
     "data": {
      "image/png": "[encoded data removed]",
      "text/plain": [
       "<Figure size 432x288 with 2 Axes>"
      ]
     },
     "metadata": {},
     "output_type": "display_data"
    }
   ],
   "source": [
    "sns.heatmap(confusion_matrix(label,out_my),annot=True)"
   ]
  },
  {
   "cell_type": "markdown",
   "metadata": {},
   "source": [
    "# Malicious"
   ]
  },
  {
   "cell_type": "code",
   "execution_count": 59,
   "metadata": {},
   "outputs": [],
   "source": [
    "train = pd.read_csv('CNNtrain.csv',index_col=0)\n",
    "train.drop('index',axis=1,inplace=True)"
   ]
  },
  {
   "cell_type": "code",
   "execution_count": 60,
   "metadata": {},
   "outputs": [],
   "source": [
    "y = train['label'].values"
   ]
  },
  {
   "cell_type": "code",
   "execution_count": 61,
   "metadata": {},
   "outputs": [],
   "source": [
    "random = [i for i in range(12)]\n",
    "random.extend([j for j in range(26,34)])"
   ]
  },
  {
   "cell_type": "code",
   "execution_count": 62,
   "metadata": {},
   "outputs": [],
   "source": [
    "d = [str(i) for i in random]"
   ]
  },
  {
   "cell_type": "code",
   "execution_count": 63,
   "metadata": {},
   "outputs": [],
   "source": [
    "def getrandom(x):\n",
    "    return np.random.randint(0,256)"
   ]
  },
  {
   "cell_type": "code",
   "execution_count": 64,
   "metadata": {},
   "outputs": [],
   "source": [
    "for i in d:\n",
    "    train[i] = train[i].apply(lambda x:getrandom(x))"
   ]
  },
  {
   "cell_type": "code",
   "execution_count": 65,
   "metadata": {},
   "outputs": [],
   "source": [
    "d = [str(i) for i in range(784)]"
   ]
  },
  {
   "cell_type": "code",
   "execution_count": 66,
   "metadata": {},
   "outputs": [],
   "source": [
    "train = train[d]"
   ]
  },
  {
   "cell_type": "code",
   "execution_count": 57,
   "metadata": {},
   "outputs": [],
   "source": [
    "test = test[d]"
   ]
  },
  {
   "cell_type": "code",
   "execution_count": 68,
   "metadata": {
    "scrolled": true
   },
   "outputs": [
    {
     "name": "stdout",
     "output_type": "stream",
     "text": [
      "_________________________________________________________________\n",
      "Layer (type)                 Output Shape              Param #   \n",
      "=================================================================\n",
      "conv2d_7 (Conv2D)            (None, 28, 28, 32)        832       \n",
      "_________________________________________________________________\n",
      "max_pooling2d_7 (MaxPooling2 (None, 14, 14, 32)        0         \n",
      "_________________________________________________________________\n",
      "conv2d_8 (Conv2D)            (None, 14, 14, 64)        51264     \n",
      "_________________________________________________________________\n",
      "max_pooling2d_8 (MaxPooling2 (None, 7, 7, 64)          0         \n",
      "_________________________________________________________________\n",
      "flatten_6 (Flatten)          (None, 3136)              0         \n",
      "_________________________________________________________________\n",
      "dropout_6 (Dropout)          (None, 3136)              0         \n",
      "_________________________________________________________________\n",
      "dense_14 (Dense)             (None, 1024)              3212288   \n",
      "_________________________________________________________________\n",
      "dense_15 (Dense)             (None, 10)                10250     \n",
      "_________________________________________________________________\n",
      "dense_16 (Dense)             (None, 2)                 22        \n",
      "=================================================================\n",
      "Total params: 3,274,656\n",
      "Trainable params: 3,274,656\n",
      "Non-trainable params: 0\n",
      "_________________________________________________________________\n",
      "Epoch 1/10\n",
      "200334/200334 [==============================] - 494s 2ms/step - loss: 0.1189 - acc: 0.9509\n",
      "Epoch 2/10\n",
      "200334/200334 [==============================] - 475s 2ms/step - loss: 0.0538 - acc: 0.9803\n",
      "Epoch 3/10\n",
      "200334/200334 [==============================] - 493s 2ms/step - loss: 0.0425 - acc: 0.9845\n",
      "Epoch 4/10\n",
      "200334/200334 [==============================] - 488s 2ms/step - loss: 0.0374 - acc: 0.9869\n",
      "Epoch 5/10\n",
      "200334/200334 [==============================] - 463s 2ms/step - loss: 0.0354 - acc: 0.9879\n",
      "Epoch 6/10\n",
      "200334/200334 [==============================] - 450s 2ms/step - loss: 0.0385 - acc: 0.9870\n",
      "Epoch 7/10\n",
      "200334/200334 [==============================] - 446s 2ms/step - loss: 0.0408 - acc: 0.9865\n",
      "Epoch 8/10\n",
      "200334/200334 [==============================] - 445s 2ms/step - loss: 0.0398 - acc: 0.9866\n",
      "Epoch 9/10\n",
      "200334/200334 [==============================] - 442s 2ms/step - loss: 0.0372 - acc: 0.9874\n",
      "Epoch 10/10\n",
      "200334/200334 [==============================] - 442s 2ms/step - loss: 0.0381 - acc: 0.9872\n"
     ]
    },
    {
     "data": {
      "text/plain": [
       "<keras.callbacks.History at 0x7f44b7157b38>"
      ]
     },
     "execution_count": 68,
     "metadata": {},
     "output_type": "execute_result"
    }
   ],
   "source": [
    "model1 = Sequential()\n",
    "model1.add(Conv2D(32,(5,5),activation = 'relu',input_shape=(28,28,1),padding='same'))\n",
    "model1.add(MaxPooling2D(pool_size=(2, 2),padding='same',strides=(2,2)))\n",
    "model1.add(Conv2D(64,(5,5),activation = 'relu',padding='same'))\n",
    "model1.add(MaxPooling2D(pool_size=(2,2),padding='same',strides=(2,2)))\n",
    "model1.add(Flatten())\n",
    "model1.add(Dropout(0.5))\n",
    "model1.add(Dense(1024, activation='tanh'))\n",
    "model1.add(Dense(10, activation='tanh'))\n",
    "model1.add(Dense(2, activation='softmax'))\n",
    "model1.summary()\n",
    "\n",
    "rmsprop =RMSprop(lr=0.001, rho=0.9, epsilon=1e-08, decay=0.0)\n",
    "\n",
    "adam = Adam(lr=0.001,beta_1=0.9,beta_2=0.999,epsilon=1e-8)\n",
    "\n",
    "# model.compile(loss='categorical_crossentropy', optimizer=adam)\n",
    "model1.compile(optimizer=adam,\n",
    "              loss='categorical_crossentropy',\n",
    "              metrics=['accuracy'])\n",
    "\n",
    "model1.fit((train/255).values.reshape(200334,28,28,1), keras.utils.to_categorical(y.reshape(200334,1), num_classes=2), batch_size=50, epochs=10,shuffle=True)"
   ]
  },
  {
   "cell_type": "code",
   "execution_count": 57,
   "metadata": {},
   "outputs": [],
   "source": [
    "model = load_model('finalmalicious.h5')"
   ]
  },
  {
   "cell_type": "code",
   "execution_count": 58,
   "metadata": {},
   "outputs": [],
   "source": [
    "out_mal = model.predict_classes((test.drop(['label','1024','src','dst'],axis=1)/255).values.reshape(178395,28,28,1))"
   ]
  },
  {
   "cell_type": "code",
   "execution_count": 27,
   "metadata": {},
   "outputs": [
    {
     "name": "stdout",
     "output_type": "stream",
     "text": [
      "[[ 57199   2583]\n",
      " [  1912 116701]]\n"
     ]
    }
   ],
   "source": [
    "print(confusion_matrix(label,out_mal))"
   ]
  },
  {
   "cell_type": "code",
   "execution_count": 71,
   "metadata": {},
   "outputs": [
    {
     "name": "stdout",
     "output_type": "stream",
     "text": [
      "              precision    recall  f1-score   support\n",
      "\n",
      "           0       0.97      0.96      0.96     59782\n",
      "           1       0.98      0.98      0.98    118613\n",
      "\n",
      "   micro avg       0.97      0.97      0.97    178395\n",
      "   macro avg       0.97      0.97      0.97    178395\n",
      "weighted avg       0.97      0.97      0.97    178395\n",
      "\n"
     ]
    }
   ],
   "source": [
    "print(classification_report(label,out_mal))"
   ]
  },
  {
   "cell_type": "code",
   "execution_count": 72,
   "metadata": {},
   "outputs": [
    {
     "data": {
      "text/plain": [
       "0.9748031054682026"
      ]
     },
     "execution_count": 72,
     "metadata": {},
     "output_type": "execute_result"
    }
   ],
   "source": [
    "accuracy_score(label,out_mal)"
   ]
  },
  {
   "cell_type": "code",
   "execution_count": 73,
   "metadata": {},
   "outputs": [
    {
     "data": {
      "text/plain": [
       "<matplotlib.axes._subplots.AxesSubplot at 0x7f43f15f8908>"
      ]
     },
     "execution_count": 73,
     "metadata": {},
     "output_type": "execute_result"
    },
    {
     "data": {
      "image/png": "[encoded data removed]",
      "text/plain": [
       "<Figure size 432x288 with 2 Axes>"
      ]
     },
     "metadata": {},
     "output_type": "display_data"
    }
   ],
   "source": [
    "sns.heatmap(confusion_matrix(label,out_mal),annot=True)"
   ]
  },
  {
   "cell_type": "markdown",
   "metadata": {},
   "source": [
    "# LSTM"
   ]
  },
  {
   "cell_type": "code",
   "execution_count": 20,
   "metadata": {},
   "outputs": [],
   "source": [
    "rnn_train = pd.read_csv('RNNtrain.csv',index_col=0)\n",
    "rnn_train.drop('index',axis=1,inplace=True)"
   ]
  },
  {
   "cell_type": "code",
   "execution_count": 29,
   "metadata": {},
   "outputs": [],
   "source": [
    "rnn_test = pd.read_csv('RNNtest.csv',index_col=0)\n",
    "rnn_test.drop('index',axis=1,inplace=True)"
   ]
  },
  {
   "cell_type": "code",
   "execution_count": 30,
   "metadata": {},
   "outputs": [],
   "source": [
    "label = rnn_test['label'].values"
   ]
  },
  {
   "cell_type": "code",
   "execution_count": 21,
   "metadata": {},
   "outputs": [],
   "source": [
    "y = rnn_train['label'].values"
   ]
  },
  {
   "cell_type": "code",
   "execution_count": 31,
   "metadata": {},
   "outputs": [],
   "source": [
    "r = [str(i) for i in range(800)]\n",
    "rnn_train = rnn_train[r]\n",
    "rnn_test = rnn_test[r]"
   ]
  },
  {
   "cell_type": "code",
   "execution_count": 25,
   "metadata": {
    "collapsed": true
   },
   "outputs": [
    {
     "name": "stdout",
     "output_type": "stream",
     "text": [
      "Epoch 1/10\n",
      "200334/200334 [==============================] - 130s 647us/step - loss: 0.1279 - acc: 0.9488\n",
      "Epoch 2/10\n",
      "200334/200334 [==============================] - 132s 658us/step - loss: 0.0694 - acc: 0.9732\n",
      "Epoch 3/10\n",
      "200334/200334 [==============================] - 133s 665us/step - loss: 0.0375 - acc: 0.9859\n",
      "Epoch 4/10\n",
      "200334/200334 [==============================] - 134s 667us/step - loss: 0.0259 - acc: 0.9903\n",
      "Epoch 5/10\n",
      "200334/200334 [==============================] - 134s 669us/step - loss: 0.0191 - acc: 0.9929\n",
      "Epoch 6/10\n",
      "200334/200334 [==============================] - 134s 670us/step - loss: 0.0151 - acc: 0.9945\n",
      "Epoch 7/10\n",
      "200334/200334 [==============================] - 135s 672us/step - loss: 0.0120 - acc: 0.9957\n",
      "Epoch 8/10\n",
      "200334/200334 [==============================] - 136s 677us/step - loss: 0.0099 - acc: 0.9964\n",
      "Epoch 9/10\n",
      "200334/200334 [==============================] - 136s 679us/step - loss: 0.0082 - acc: 0.9971\n",
      "Epoch 10/10\n",
      "200334/200334 [==============================] - 137s 682us/step - loss: 0.0077 - acc: 0.9974\n"
     ]
    },
    {
     "data": {
      "text/plain": [
       "<keras.callbacks.History at 0x7f43f1554048>"
      ]
     },
     "execution_count": 25,
     "metadata": {},
     "output_type": "execute_result"
    }
   ],
   "source": [
    "model = Sequential()\n",
    "\n",
    "model.add(Bidirectional(LSTM(16,input_shape=(50,16), return_sequences=True)))\n",
    "\n",
    "model.add(Flatten())\n",
    "model.add(Dropout(0.2))\n",
    "model.add(Dense(128, activation='tanh'))\n",
    "model.add(Dense(2, activation='softmax'))\n",
    "\n",
    "model.compile(loss='mean_squared_error', optimizer='adam') \n",
    "\n",
    "rmsprop =RMSprop(lr=0.001, rho=0.9, epsilon=1e-08, decay=0.0)\n",
    "\n",
    "adam = Adam(lr=0.001,beta_1=0.9,beta_2=0.999,epsilon=1e-8)\n",
    "sgd = SGD(lr=0.01, decay=1e-6, momentum=0.9, nesterov=True)\n",
    "# model.compile(loss='categorical_crossentropy', optimizer=adam)\n",
    "\n",
    "model.compile(optimizer=adam,\n",
    "              loss='categorical_crossentropy',\n",
    "              metrics=['accuracy'])\n",
    "\n",
    "model.fit((rnn_train/255).values.reshape(200334,50,16), keras.utils.to_categorical(y.reshape(200334,1), num_classes=2), batch_size=50, epochs=10)\n"
   ]
  },
  {
   "cell_type": "code",
   "execution_count": 65,
   "metadata": {},
   "outputs": [],
   "source": [
    "model = load_model('finallstm.h5')"
   ]
  },
  {
   "cell_type": "code",
   "execution_count": 16,
   "metadata": {
    "collapsed": true
   },
   "outputs": [
    {
     "name": "stdout",
     "output_type": "stream",
     "text": [
      "_________________________________________________________________\n",
      "Layer (type)                 Output Shape              Param #   \n",
      "=================================================================\n",
      "bidirectional_2 (Bidirection (None, 50, 32)            4224      \n",
      "_________________________________________________________________\n",
      "flatten_4 (Flatten)          (None, 1600)              0         \n",
      "_________________________________________________________________\n",
      "dropout_4 (Dropout)          (None, 1600)              0         \n",
      "_________________________________________________________________\n",
      "dense_9 (Dense)              (None, 128)               204928    \n",
      "_________________________________________________________________\n",
      "dense_10 (Dense)             (None, 2)                 258       \n",
      "=================================================================\n",
      "Total params: 209,410\n",
      "Trainable params: 209,410\n",
      "Non-trainable params: 0\n",
      "_________________________________________________________________\n"
     ]
    }
   ],
   "source": [
    "model.summary()"
   ]
  },
  {
   "cell_type": "code",
   "execution_count": 66,
   "metadata": {},
   "outputs": [],
   "source": [
    "out_lstm = model.predict_classes((rnn_test.drop(['label','800','src','dst'],axis=1)/255).values.reshape(178395,50,16))"
   ]
  },
  {
   "cell_type": "code",
   "execution_count": 44,
   "metadata": {},
   "outputs": [
    {
     "name": "stdout",
     "output_type": "stream",
     "text": [
      "[[ 58572   1210]\n",
      " [  2709 115904]]\n"
     ]
    }
   ],
   "source": [
    "print(confusion_matrix(label,out_lstm))"
   ]
  },
  {
   "cell_type": "code",
   "execution_count": 46,
   "metadata": {},
   "outputs": [
    {
     "data": {
      "text/plain": [
       "0.02024020608209829"
      ]
     },
     "execution_count": 46,
     "metadata": {},
     "output_type": "execute_result"
    }
   ],
   "source": [
    "1210/(1210+58572)"
   ]
  },
  {
   "cell_type": "code",
   "execution_count": 45,
   "metadata": {},
   "outputs": [
    {
     "data": {
      "text/plain": [
       "0.9771610194498074"
      ]
     },
     "execution_count": 45,
     "metadata": {},
     "output_type": "execute_result"
    }
   ],
   "source": [
    "recall_score(label,out_lstm)"
   ]
  },
  {
   "cell_type": "code",
   "execution_count": 36,
   "metadata": {},
   "outputs": [
    {
     "name": "stdout",
     "output_type": "stream",
     "text": [
      "              precision    recall  f1-score   support\n",
      "\n",
      "           0       0.96      0.98      0.97     59782\n",
      "           1       0.99      0.98      0.98    118613\n",
      "\n",
      "   micro avg       0.98      0.98      0.98    178395\n",
      "   macro avg       0.97      0.98      0.98    178395\n",
      "weighted avg       0.98      0.98      0.98    178395\n",
      "\n"
     ]
    }
   ],
   "source": [
    "print(classification_report(label,out_lstm))"
   ]
  },
  {
   "cell_type": "code",
   "execution_count": 38,
   "metadata": {},
   "outputs": [
    {
     "data": {
      "text/plain": [
       "0.9780318955127666"
      ]
     },
     "execution_count": 38,
     "metadata": {},
     "output_type": "execute_result"
    }
   ],
   "source": [
    "accuracy_score(label,out_lstm)"
   ]
  },
  {
   "cell_type": "code",
   "execution_count": 39,
   "metadata": {},
   "outputs": [
    {
     "data": {
      "text/plain": [
       "<matplotlib.axes._subplots.AxesSubplot at 0x7f44bae21940>"
      ]
     },
     "execution_count": 39,
     "metadata": {},
     "output_type": "execute_result"
    },
    {
     "data": {
      "image/png": "[encoded data removed]",
      "text/plain": [
       "<Figure size 432x288 with 2 Axes>"
      ]
     },
     "metadata": {},
     "output_type": "display_data"
    }
   ],
   "source": [
    "sns.heatmap(confusion_matrix(label,out_lstm),annot=True)"
   ]
  },
  {
   "cell_type": "markdown",
   "metadata": {},
   "source": [
    "# CNN+RNN"
   ]
  },
  {
   "cell_type": "code",
   "execution_count": 4,
   "metadata": {},
   "outputs": [],
   "source": [
    "train = pd.read_csv('CNNtrain.csv',index_col=0)\n",
    "train.drop('index',axis=1,inplace=True)"
   ]
  },
  {
   "cell_type": "code",
   "execution_count": 5,
   "metadata": {},
   "outputs": [],
   "source": [
    "rnn_train = pd.read_csv('RNNtrain.csv',index_col=0)\n",
    "rnn_train.drop('index',axis=1,inplace=True)"
   ]
  },
  {
   "cell_type": "code",
   "execution_count": 13,
   "metadata": {},
   "outputs": [],
   "source": [
    "test = pd.read_csv('CNNtest.csv',index_col=0)\n",
    "test.drop('index',axis=1,inplace=True)\n",
    "label = test['label'].values"
   ]
  },
  {
   "cell_type": "code",
   "execution_count": 12,
   "metadata": {},
   "outputs": [],
   "source": [
    "rnn_test = pd.read_csv('RNNtest.csv',index_col=0)\n",
    "rnn_test.drop('index',axis=1,inplace=True)"
   ]
  },
  {
   "cell_type": "code",
   "execution_count": 6,
   "metadata": {},
   "outputs": [],
   "source": [
    "y = train['label'].values"
   ]
  },
  {
   "cell_type": "code",
   "execution_count": 7,
   "metadata": {},
   "outputs": [],
   "source": [
    "d = [str(i) for i in range(1024)]\n",
    "r = [str(i) for i in range(800)]"
   ]
  },
  {
   "cell_type": "code",
   "execution_count": 8,
   "metadata": {},
   "outputs": [],
   "source": [
    "train = train[d]\n",
    "rnn_train = rnn_train[r]"
   ]
  },
  {
   "cell_type": "code",
   "execution_count": 14,
   "metadata": {},
   "outputs": [],
   "source": [
    "test = test[d]\n",
    "rnn_test = rnn_test[r]"
   ]
  },
  {
   "cell_type": "code",
   "execution_count": 9,
   "metadata": {
    "collapsed": true
   },
   "outputs": [
    {
     "name": "stdout",
     "output_type": "stream",
     "text": [
      "WARNING:tensorflow:From /home/wade/.local/lib/python3.6/site-packages/tensorflow/python/framework/op_def_library.py:263: colocate_with (from tensorflow.python.framework.ops) is deprecated and will be removed in a future version.\n",
      "Instructions for updating:\n",
      "Colocations handled automatically by placer.\n",
      "WARNING:tensorflow:From /home/wade/.local/lib/python3.6/site-packages/keras/backend/tensorflow_backend.py:3445: calling dropout (from tensorflow.python.ops.nn_ops) with keep_prob is deprecated and will be removed in a future version.\n",
      "Instructions for updating:\n",
      "Please use `rate` instead of `keep_prob`. Rate should be set to `rate = 1 - keep_prob`.\n"
     ]
    },
    {
     "name": "stderr",
     "output_type": "stream",
     "text": [
      "/usr/lib/python3/dist-packages/ipykernel_launcher.py:24: UserWarning: Update your `Model` call to the Keras 2 API: `Model(inputs=[<tf.Tenso..., outputs=Tensor(\"de...)`\n"
     ]
    },
    {
     "name": "stdout",
     "output_type": "stream",
     "text": [
      "WARNING:tensorflow:From /home/wade/.local/lib/python3.6/site-packages/tensorflow/python/ops/math_ops.py:3066: to_int32 (from tensorflow.python.ops.math_ops) is deprecated and will be removed in a future version.\n",
      "Instructions for updating:\n",
      "Use tf.cast instead.\n",
      "Epoch 1/10\n",
      "200334/200334 [==============================] - 639s 3ms/step - loss: 0.0840 - acc: 0.9661\n",
      "Epoch 2/10\n",
      "200334/200334 [==============================] - 665s 3ms/step - loss: 0.0285 - acc: 0.9901\n",
      "Epoch 3/10\n",
      "200334/200334 [==============================] - 649s 3ms/step - loss: 0.0204 - acc: 0.9928\n",
      "Epoch 4/10\n",
      "200334/200334 [==============================] - 650s 3ms/step - loss: 0.0166 - acc: 0.9944\n",
      "Epoch 5/10\n",
      "200334/200334 [==============================] - 635s 3ms/step - loss: 0.0150 - acc: 0.9947\n",
      "Epoch 6/10\n",
      "200334/200334 [==============================] - 638s 3ms/step - loss: 0.0149 - acc: 0.9947\n",
      "Epoch 7/10\n",
      "200334/200334 [==============================] - 635s 3ms/step - loss: 0.0151 - acc: 0.9949\n",
      "Epoch 8/10\n",
      "200334/200334 [==============================] - 763s 4ms/step - loss: 0.0127 - acc: 0.9955\n",
      "Epoch 9/10\n",
      "200334/200334 [==============================] - 846s 4ms/step - loss: 0.0117 - acc: 0.9959\n",
      "Epoch 10/10\n",
      "200334/200334 [==============================] - 838s 4ms/step - loss: 0.0115 - acc: 0.9959\n"
     ]
    },
    {
     "data": {
      "text/plain": [
       "<keras.callbacks.History at 0x7fd00329fd68>"
      ]
     },
     "execution_count": 9,
     "metadata": {},
     "output_type": "execute_result"
    }
   ],
   "source": [
    "input1 = Input(shape=(50,16))\n",
    "L1_1 = Bidirectional(LSTM(256,return_sequences=True))(input1)\n",
    "L1_1 = Dropout(0.2)(L1_1)\n",
    "F1_1 = Flatten()(L1_1)\n",
    "D1_1 = Dense(256,activation='tanh')(F1_1)\n",
    "D1_2 = Dense(10,activation='tanh')(D1_1)\n",
    "\n",
    "\n",
    "input2 = Input(shape=(32,32,1))\n",
    "C1_1 = Conv2D(32,(5,5),activation = 'relu',padding='same')(input2)\n",
    "M1_1 = MaxPooling2D(pool_size=(2, 2),padding='same',strides=(2,2))(C1_1)\n",
    "C1_2 = Conv2D(64,(5,5),activation = 'relu',padding='same')(M1_1)\n",
    "M1_2 = MaxPooling2D(pool_size=(2,2),padding='same',strides=(2,2))(C1_2)\n",
    "F2_2 = Flatten()(M1_2)\n",
    "M1_2 = Dropout(0.5)(F2_2)\n",
    "D2_1 = Dense(1024, activation='tanh')(M1_2)\n",
    "D2_2 = Dense(10, activation='tanh')(D2_1)\n",
    "\n",
    "x = keras.layers.concatenate([D1_2,D2_2])\n",
    "O = Dense(2,activation='softmax')(x)\n",
    "\n",
    "\n",
    "\n",
    "model = Model(input=[input1,input2],output=O)\n",
    "\n",
    "\n",
    "adam = Adam(lr=0.001,beta_1=0.9,beta_2=0.999,epsilon=1e-8)\n",
    "sgd = SGD(lr=0.01, decay=1e-6, momentum=0.9, nesterov=True)\n",
    "# model.compile(loss='categorical_crossentropy', optimizer=adam)\n",
    "model.compile(optimizer=adam,\n",
    "              loss='categorical_crossentropy',\n",
    "              metrics=['accuracy'])\n",
    "\n",
    "model.fit([(rnn_train/255).values.reshape(200334,50,16),(train/255).values.reshape(200334,32,32,1)],keras.utils.to_categorical(y.reshape(200334,1), num_classes=2), batch_size=50, epochs=10,shuffle=True)"
   ]
  },
  {
   "cell_type": "code",
   "execution_count": 47,
   "metadata": {},
   "outputs": [],
   "source": [
    "model = load_model('finalcnnrnn.h5')"
   ]
  },
  {
   "cell_type": "code",
   "execution_count": 49,
   "metadata": {},
   "outputs": [
    {
     "data": {
      "text/html": [
       "<div>\n",
       "<style scoped>\n",
       "    .dataframe tbody tr th:only-of-type {\n",
       "        vertical-align: middle;\n",
       "    }\n",
       "\n",
       "    .dataframe tbody tr th {\n",
       "        vertical-align: top;\n",
       "    }\n",
       "\n",
       "    .dataframe thead th {\n",
       "        text-align: right;\n",
       "    }\n",
       "</style>\n",
       "<table border=\"1\" class=\"dataframe\">\n",
       "  <thead>\n",
       "    <tr style=\"text-align: right;\">\n",
       "      <th></th>\n",
       "      <th>0</th>\n",
       "      <th>1</th>\n",
       "      <th>2</th>\n",
       "      <th>3</th>\n",
       "      <th>4</th>\n",
       "      <th>5</th>\n",
       "      <th>6</th>\n",
       "      <th>7</th>\n",
       "      <th>8</th>\n",
       "      <th>9</th>\n",
       "      <th>...</th>\n",
       "      <th>794</th>\n",
       "      <th>795</th>\n",
       "      <th>796</th>\n",
       "      <th>797</th>\n",
       "      <th>798</th>\n",
       "      <th>799</th>\n",
       "      <th>800</th>\n",
       "      <th>label</th>\n",
       "      <th>src</th>\n",
       "      <th>dst</th>\n",
       "    </tr>\n",
       "  </thead>\n",
       "  <tbody>\n",
       "    <tr>\n",
       "      <th>0</th>\n",
       "      <td>0</td>\n",
       "      <td>30</td>\n",
       "      <td>73</td>\n",
       "      <td>219</td>\n",
       "      <td>25</td>\n",
       "      <td>195</td>\n",
       "      <td>8</td>\n",
       "      <td>0</td>\n",
       "      <td>39</td>\n",
       "      <td>181</td>\n",
       "      <td>...</td>\n",
       "      <td>0</td>\n",
       "      <td>0</td>\n",
       "      <td>0</td>\n",
       "      <td>0</td>\n",
       "      <td>0</td>\n",
       "      <td>0</td>\n",
       "      <td>('66.94.236.34', '147.32.84.160')</td>\n",
       "      <td>1</td>\n",
       "      <td>66.94.236.34</td>\n",
       "      <td>147.32.84.160</td>\n",
       "    </tr>\n",
       "    <tr>\n",
       "      <th>1</th>\n",
       "      <td>0</td>\n",
       "      <td>30</td>\n",
       "      <td>73</td>\n",
       "      <td>219</td>\n",
       "      <td>25</td>\n",
       "      <td>195</td>\n",
       "      <td>8</td>\n",
       "      <td>0</td>\n",
       "      <td>39</td>\n",
       "      <td>181</td>\n",
       "      <td>...</td>\n",
       "      <td>0</td>\n",
       "      <td>0</td>\n",
       "      <td>0</td>\n",
       "      <td>0</td>\n",
       "      <td>0</td>\n",
       "      <td>0</td>\n",
       "      <td>('173.192.170.88', '147.32.84.160')</td>\n",
       "      <td>1</td>\n",
       "      <td>173.192.170.88</td>\n",
       "      <td>147.32.84.160</td>\n",
       "    </tr>\n",
       "    <tr>\n",
       "      <th>2</th>\n",
       "      <td>0</td>\n",
       "      <td>85</td>\n",
       "      <td>34</td>\n",
       "      <td>175</td>\n",
       "      <td>198</td>\n",
       "      <td>55</td>\n",
       "      <td>0</td>\n",
       "      <td>68</td>\n",
       "      <td>102</td>\n",
       "      <td>252</td>\n",
       "      <td>...</td>\n",
       "      <td>0</td>\n",
       "      <td>0</td>\n",
       "      <td>0</td>\n",
       "      <td>0</td>\n",
       "      <td>0</td>\n",
       "      <td>0</td>\n",
       "      <td>('87.126.218.182', '172.16.2.12')</td>\n",
       "      <td>0</td>\n",
       "      <td>87.126.218.182</td>\n",
       "      <td>172.16.2.12</td>\n",
       "    </tr>\n",
       "    <tr>\n",
       "      <th>3</th>\n",
       "      <td>0</td>\n",
       "      <td>224</td>\n",
       "      <td>177</td>\n",
       "      <td>135</td>\n",
       "      <td>245</td>\n",
       "      <td>148</td>\n",
       "      <td>0</td>\n",
       "      <td>13</td>\n",
       "      <td>96</td>\n",
       "      <td>150</td>\n",
       "      <td>...</td>\n",
       "      <td>0</td>\n",
       "      <td>0</td>\n",
       "      <td>0</td>\n",
       "      <td>0</td>\n",
       "      <td>0</td>\n",
       "      <td>0</td>\n",
       "      <td>('192.168.4.121', '65.54.189.84')</td>\n",
       "      <td>0</td>\n",
       "      <td>192.168.4.121</td>\n",
       "      <td>65.54.189.84</td>\n",
       "    </tr>\n",
       "    <tr>\n",
       "      <th>4</th>\n",
       "      <td>0</td>\n",
       "      <td>30</td>\n",
       "      <td>73</td>\n",
       "      <td>219</td>\n",
       "      <td>25</td>\n",
       "      <td>195</td>\n",
       "      <td>8</td>\n",
       "      <td>0</td>\n",
       "      <td>39</td>\n",
       "      <td>181</td>\n",
       "      <td>...</td>\n",
       "      <td>0</td>\n",
       "      <td>0</td>\n",
       "      <td>0</td>\n",
       "      <td>0</td>\n",
       "      <td>0</td>\n",
       "      <td>0</td>\n",
       "      <td>('147.32.84.160', '184.173.217.40')</td>\n",
       "      <td>1</td>\n",
       "      <td>147.32.84.160</td>\n",
       "      <td>184.173.217.40</td>\n",
       "    </tr>\n",
       "  </tbody>\n",
       "</table>\n",
       "<p>5 rows × 804 columns</p>\n",
       "</div>"
      ],
      "text/plain": [
       "   0    1    2    3    4    5  6   7    8    9  ...  794  795  796  797  798  \\\n",
       "0  0   30   73  219   25  195  8   0   39  181  ...    0    0    0    0    0   \n",
       "1  0   30   73  219   25  195  8   0   39  181  ...    0    0    0    0    0   \n",
       "2  0   85   34  175  198   55  0  68  102  252  ...    0    0    0    0    0   \n",
       "3  0  224  177  135  245  148  0  13   96  150  ...    0    0    0    0    0   \n",
       "4  0   30   73  219   25  195  8   0   39  181  ...    0    0    0    0    0   \n",
       "\n",
       "   799                                  800  label             src  \\\n",
       "0    0    ('66.94.236.34', '147.32.84.160')      1    66.94.236.34   \n",
       "1    0  ('173.192.170.88', '147.32.84.160')      1  173.192.170.88   \n",
       "2    0    ('87.126.218.182', '172.16.2.12')      0  87.126.218.182   \n",
       "3    0    ('192.168.4.121', '65.54.189.84')      0   192.168.4.121   \n",
       "4    0  ('147.32.84.160', '184.173.217.40')      1   147.32.84.160   \n",
       "\n",
       "              dst  \n",
       "0   147.32.84.160  \n",
       "1   147.32.84.160  \n",
       "2     172.16.2.12  \n",
       "3    65.54.189.84  \n",
       "4  184.173.217.40  \n",
       "\n",
       "[5 rows x 804 columns]"
      ]
     },
     "execution_count": 49,
     "metadata": {},
     "output_type": "execute_result"
    }
   ],
   "source": [
    "rnn_test.head()"
   ]
  },
  {
   "cell_type": "code",
   "execution_count": 50,
   "metadata": {},
   "outputs": [],
   "source": [
    "out_cr = model.predict([(rnn_test.drop(['label','800','src','dst'],axis=1)/255).values.reshape(178395,50,16),(test/255).values.reshape(178395,32,32,1)])"
   ]
  },
  {
   "cell_type": "code",
   "execution_count": 51,
   "metadata": {},
   "outputs": [],
   "source": [
    "out_cr = np.argmax(out_cr,axis=1)"
   ]
  },
  {
   "cell_type": "code",
   "execution_count": 21,
   "metadata": {},
   "outputs": [
    {
     "name": "stdout",
     "output_type": "stream",
     "text": [
      "              precision    recall  f1-score   support\n",
      "\n",
      "           0       0.97      0.97      0.97     59782\n",
      "           1       0.99      0.98      0.98    118613\n",
      "\n",
      "   micro avg       0.98      0.98      0.98    178395\n",
      "   macro avg       0.98      0.98      0.98    178395\n",
      "weighted avg       0.98      0.98      0.98    178395\n",
      "\n"
     ]
    }
   ],
   "source": [
    "print(classification_report(label,out_cr))"
   ]
  },
  {
   "cell_type": "code",
   "execution_count": 26,
   "metadata": {},
   "outputs": [
    {
     "data": {
      "text/plain": [
       "0.9836274270105301"
      ]
     },
     "execution_count": 26,
     "metadata": {},
     "output_type": "execute_result"
    }
   ],
   "source": [
    "recall_score(label,out_cr)"
   ]
  },
  {
   "cell_type": "code",
   "execution_count": 28,
   "metadata": {
    "scrolled": true
   },
   "outputs": [
    {
     "data": {
      "text/plain": [
       "<matplotlib.axes._subplots.AxesSubplot at 0x7f1416cb6668>"
      ]
     },
     "execution_count": 28,
     "metadata": {},
     "output_type": "execute_result"
    },
    {
     "data": {
      "image/png": "[encoded data removed]",
      "text/plain": [
       "<Figure size 432x288 with 2 Axes>"
      ]
     },
     "metadata": {},
     "output_type": "display_data"
    }
   ],
   "source": [
    "sns.heatmap(confusion_matrix(label,out_cr),annot=True)"
   ]
  },
  {
   "cell_type": "code",
   "execution_count": 31,
   "metadata": {},
   "outputs": [
    {
     "name": "stdout",
     "output_type": "stream",
     "text": [
      "[[ 58073   1709]\n",
      " [  1942 116671]]\n"
     ]
    }
   ],
   "source": [
    "print(confusion_matrix(label,out_cr))"
   ]
  },
  {
   "cell_type": "code",
   "execution_count": 32,
   "metadata": {},
   "outputs": [
    {
     "data": {
      "text/plain": [
       "0.028587200160583453"
      ]
     },
     "execution_count": 32,
     "metadata": {},
     "output_type": "execute_result"
    }
   ],
   "source": [
    "1709/(1709+58073)"
   ]
  },
  {
   "cell_type": "markdown",
   "metadata": {},
   "source": [
    "# CNN+RNN"
   ]
  },
  {
   "cell_type": "markdown",
   "metadata": {},
   "source": [
    "# Oversampliing"
   ]
  },
  {
   "cell_type": "markdown",
   "metadata": {},
   "source": [
    "# My"
   ]
  },
  {
   "cell_type": "code",
   "execution_count": 3,
   "metadata": {},
   "outputs": [],
   "source": [
    "train = pd.read_csv('CNNtrain.csv',index_col=0)\n",
    "train.drop('index',axis=1,inplace=True)"
   ]
  },
  {
   "cell_type": "code",
   "execution_count": 78,
   "metadata": {},
   "outputs": [],
   "source": [
    "test = pd.read_csv('CNNtest.csv',index_col=0)\n",
    "test.drop('index',axis=1,inplace=True)"
   ]
  },
  {
   "cell_type": "code",
   "execution_count": 79,
   "metadata": {},
   "outputs": [],
   "source": [
    "label = test['label']"
   ]
  },
  {
   "cell_type": "code",
   "execution_count": 4,
   "metadata": {},
   "outputs": [],
   "source": [
    "normal = train[train['label'] == 0]"
   ]
  },
  {
   "cell_type": "code",
   "execution_count": 5,
   "metadata": {},
   "outputs": [],
   "source": [
    "train = pd.concat([train,normal.sample(frac=0.5)])"
   ]
  },
  {
   "cell_type": "code",
   "execution_count": 6,
   "metadata": {},
   "outputs": [],
   "source": [
    "train.reset_index(drop=True,inplace=True)"
   ]
  },
  {
   "cell_type": "code",
   "execution_count": 7,
   "metadata": {},
   "outputs": [],
   "source": [
    "y = train['label'].values"
   ]
  },
  {
   "cell_type": "code",
   "execution_count": 8,
   "metadata": {},
   "outputs": [
    {
     "name": "stdout",
     "output_type": "stream",
     "text": [
      "WARNING:tensorflow:From /home/wade/.local/lib/python3.6/site-packages/tensorflow/python/framework/op_def_library.py:263: colocate_with (from tensorflow.python.framework.ops) is deprecated and will be removed in a future version.\n",
      "Instructions for updating:\n",
      "Colocations handled automatically by placer.\n",
      "WARNING:tensorflow:From /home/wade/.local/lib/python3.6/site-packages/keras/backend/tensorflow_backend.py:3445: calling dropout (from tensorflow.python.ops.nn_ops) with keep_prob is deprecated and will be removed in a future version.\n",
      "Instructions for updating:\n",
      "Please use `rate` instead of `keep_prob`. Rate should be set to `rate = 1 - keep_prob`.\n",
      "WARNING:tensorflow:From /home/wade/.local/lib/python3.6/site-packages/tensorflow/python/ops/math_ops.py:3066: to_int32 (from tensorflow.python.ops.math_ops) is deprecated and will be removed in a future version.\n",
      "Instructions for updating:\n",
      "Use tf.cast instead.\n",
      "Epoch 1/10\n",
      "236210/236210 [==============================] - 712s 3ms/step - loss: 0.0830 - acc: 0.9675\n",
      "Epoch 2/10\n",
      "236210/236210 [==============================] - 715s 3ms/step - loss: 0.0307 - acc: 0.9889\n",
      "Epoch 3/10\n",
      "236210/236210 [==============================] - 707s 3ms/step - loss: 0.0241 - acc: 0.9919\n",
      "Epoch 4/10\n",
      "236210/236210 [==============================] - 796s 3ms/step - loss: 0.0210 - acc: 0.9928\n",
      "Epoch 5/10\n",
      "236210/236210 [==============================] - 700s 3ms/step - loss: 0.0210 - acc: 0.9930\n",
      "Epoch 6/10\n",
      "236210/236210 [==============================] - 675s 3ms/step - loss: 0.0209 - acc: 0.9933\n",
      "Epoch 7/10\n",
      "236210/236210 [==============================] - 681s 3ms/step - loss: 0.0195 - acc: 0.9936\n",
      "Epoch 8/10\n",
      "236210/236210 [==============================] - 755s 3ms/step - loss: 0.0196 - acc: 0.9933\n",
      "Epoch 9/10\n",
      "236210/236210 [==============================] - 714s 3ms/step - loss: 0.0197 - acc: 0.9937\n",
      "Epoch 10/10\n",
      "236210/236210 [==============================] - 722s 3ms/step - loss: 0.0233 - acc: 0.9923\n"
     ]
    },
    {
     "data": {
      "text/plain": [
       "<keras.callbacks.History at 0x7fecf2f0c6a0>"
      ]
     },
     "execution_count": 8,
     "metadata": {},
     "output_type": "execute_result"
    }
   ],
   "source": [
    "model = Sequential()\n",
    "model.add(Conv2D(32,(5,5),activation = 'relu',input_shape=(32,32,1),padding='same'))\n",
    "model.add(MaxPooling2D(pool_size=(2, 2),padding='same',strides=(2,2)))\n",
    "model.add(Conv2D(64,(5,5),activation = 'relu',padding='same'))\n",
    "model.add(MaxPooling2D(pool_size=(2,2),padding='same',strides=(2,2)))\n",
    "model.add(Flatten())\n",
    "model.add(Dropout(0.5))\n",
    "model.add(Dense(1024, activation='tanh'))\n",
    "model.add(Dense(10, activation='tanh'))\n",
    "model.add(Dense(2, activation='softmax'))\n",
    "# model.summary()\n",
    "\n",
    "\n",
    "adam = Adam(lr=0.001,beta_1=0.9,beta_2=0.999,epsilon=1e-8)\n",
    "sgd = SGD(lr=0.01, decay=1e-6, momentum=0.9, nesterov=True)\n",
    "# model.compile(loss='categorical_crossentropy', optimizer=adam)\n",
    "model.compile(optimizer=adam,\n",
    "              loss='categorical_crossentropy',\n",
    "              metrics=['accuracy'])\n",
    "\n",
    "model.fit((train.drop(['label','1024','src','dst'],axis=1)/255).values.reshape(236210,32,32,1), keras.utils.to_categorical(y.reshape(236210,1), num_classes=2), batch_size=50, epochs=10,shuffle=True)"
   ]
  },
  {
   "cell_type": "code",
   "execution_count": 76,
   "metadata": {},
   "outputs": [],
   "source": [
    "model = load_model('oversample.h5')"
   ]
  },
  {
   "cell_type": "code",
   "execution_count": 77,
   "metadata": {},
   "outputs": [
    {
     "data": {
      "text/html": [
       "<div>\n",
       "<style scoped>\n",
       "    .dataframe tbody tr th:only-of-type {\n",
       "        vertical-align: middle;\n",
       "    }\n",
       "\n",
       "    .dataframe tbody tr th {\n",
       "        vertical-align: top;\n",
       "    }\n",
       "\n",
       "    .dataframe thead th {\n",
       "        text-align: right;\n",
       "    }\n",
       "</style>\n",
       "<table border=\"1\" class=\"dataframe\">\n",
       "  <thead>\n",
       "    <tr style=\"text-align: right;\">\n",
       "      <th></th>\n",
       "      <th>0</th>\n",
       "      <th>1</th>\n",
       "      <th>2</th>\n",
       "      <th>3</th>\n",
       "      <th>4</th>\n",
       "      <th>5</th>\n",
       "      <th>6</th>\n",
       "      <th>7</th>\n",
       "      <th>8</th>\n",
       "      <th>9</th>\n",
       "      <th>...</th>\n",
       "      <th>1014</th>\n",
       "      <th>1015</th>\n",
       "      <th>1016</th>\n",
       "      <th>1017</th>\n",
       "      <th>1018</th>\n",
       "      <th>1019</th>\n",
       "      <th>1020</th>\n",
       "      <th>1021</th>\n",
       "      <th>1022</th>\n",
       "      <th>1023</th>\n",
       "    </tr>\n",
       "  </thead>\n",
       "  <tbody>\n",
       "    <tr>\n",
       "      <th>0</th>\n",
       "      <td>0</td>\n",
       "      <td>30</td>\n",
       "      <td>73</td>\n",
       "      <td>219</td>\n",
       "      <td>25</td>\n",
       "      <td>195</td>\n",
       "      <td>8</td>\n",
       "      <td>0</td>\n",
       "      <td>39</td>\n",
       "      <td>181</td>\n",
       "      <td>...</td>\n",
       "      <td>0</td>\n",
       "      <td>0</td>\n",
       "      <td>0</td>\n",
       "      <td>0</td>\n",
       "      <td>0</td>\n",
       "      <td>0</td>\n",
       "      <td>0</td>\n",
       "      <td>0</td>\n",
       "      <td>0</td>\n",
       "      <td>0</td>\n",
       "    </tr>\n",
       "    <tr>\n",
       "      <th>1</th>\n",
       "      <td>0</td>\n",
       "      <td>30</td>\n",
       "      <td>73</td>\n",
       "      <td>219</td>\n",
       "      <td>25</td>\n",
       "      <td>195</td>\n",
       "      <td>8</td>\n",
       "      <td>0</td>\n",
       "      <td>39</td>\n",
       "      <td>181</td>\n",
       "      <td>...</td>\n",
       "      <td>7</td>\n",
       "      <td>114</td>\n",
       "      <td>161</td>\n",
       "      <td>49</td>\n",
       "      <td>64</td>\n",
       "      <td>0</td>\n",
       "      <td>46</td>\n",
       "      <td>6</td>\n",
       "      <td>100</td>\n",
       "      <td>123</td>\n",
       "    </tr>\n",
       "    <tr>\n",
       "      <th>2</th>\n",
       "      <td>0</td>\n",
       "      <td>85</td>\n",
       "      <td>34</td>\n",
       "      <td>175</td>\n",
       "      <td>198</td>\n",
       "      <td>55</td>\n",
       "      <td>0</td>\n",
       "      <td>68</td>\n",
       "      <td>102</td>\n",
       "      <td>252</td>\n",
       "      <td>...</td>\n",
       "      <td>0</td>\n",
       "      <td>0</td>\n",
       "      <td>0</td>\n",
       "      <td>0</td>\n",
       "      <td>0</td>\n",
       "      <td>0</td>\n",
       "      <td>0</td>\n",
       "      <td>0</td>\n",
       "      <td>0</td>\n",
       "      <td>0</td>\n",
       "    </tr>\n",
       "    <tr>\n",
       "      <th>3</th>\n",
       "      <td>0</td>\n",
       "      <td>224</td>\n",
       "      <td>177</td>\n",
       "      <td>135</td>\n",
       "      <td>245</td>\n",
       "      <td>148</td>\n",
       "      <td>0</td>\n",
       "      <td>13</td>\n",
       "      <td>96</td>\n",
       "      <td>150</td>\n",
       "      <td>...</td>\n",
       "      <td>52</td>\n",
       "      <td>123</td>\n",
       "      <td>80</td>\n",
       "      <td>24</td>\n",
       "      <td>252</td>\n",
       "      <td>68</td>\n",
       "      <td>228</td>\n",
       "      <td>177</td>\n",
       "      <td>0</td>\n",
       "      <td>0</td>\n",
       "    </tr>\n",
       "    <tr>\n",
       "      <th>4</th>\n",
       "      <td>0</td>\n",
       "      <td>30</td>\n",
       "      <td>73</td>\n",
       "      <td>219</td>\n",
       "      <td>25</td>\n",
       "      <td>195</td>\n",
       "      <td>8</td>\n",
       "      <td>0</td>\n",
       "      <td>39</td>\n",
       "      <td>181</td>\n",
       "      <td>...</td>\n",
       "      <td>0</td>\n",
       "      <td>0</td>\n",
       "      <td>0</td>\n",
       "      <td>0</td>\n",
       "      <td>0</td>\n",
       "      <td>0</td>\n",
       "      <td>0</td>\n",
       "      <td>0</td>\n",
       "      <td>0</td>\n",
       "      <td>0</td>\n",
       "    </tr>\n",
       "  </tbody>\n",
       "</table>\n",
       "<p>5 rows × 1024 columns</p>\n",
       "</div>"
      ],
      "text/plain": [
       "   0    1    2    3    4    5  6   7    8    9  ...  1014  1015  1016  1017  \\\n",
       "0  0   30   73  219   25  195  8   0   39  181  ...     0     0     0     0   \n",
       "1  0   30   73  219   25  195  8   0   39  181  ...     7   114   161    49   \n",
       "2  0   85   34  175  198   55  0  68  102  252  ...     0     0     0     0   \n",
       "3  0  224  177  135  245  148  0  13   96  150  ...    52   123    80    24   \n",
       "4  0   30   73  219   25  195  8   0   39  181  ...     0     0     0     0   \n",
       "\n",
       "   1018  1019  1020  1021  1022  1023  \n",
       "0     0     0     0     0     0     0  \n",
       "1    64     0    46     6   100   123  \n",
       "2     0     0     0     0     0     0  \n",
       "3   252    68   228   177     0     0  \n",
       "4     0     0     0     0     0     0  \n",
       "\n",
       "[5 rows x 1024 columns]"
      ]
     },
     "execution_count": 77,
     "metadata": {},
     "output_type": "execute_result"
    }
   ],
   "source": [
    "test.head()"
   ]
  },
  {
   "cell_type": "code",
   "execution_count": 80,
   "metadata": {},
   "outputs": [],
   "source": [
    "out_my = model.predict_classes((test.drop(['label','1024','src','dst'],axis=1)/255).values.reshape(178395,32,32,1))"
   ]
  },
  {
   "cell_type": "code",
   "execution_count": 17,
   "metadata": {},
   "outputs": [
    {
     "name": "stdout",
     "output_type": "stream",
     "text": [
      "              precision    recall  f1-score   support\n",
      "\n",
      "           0       0.97      0.97      0.97     59782\n",
      "           1       0.98      0.98      0.98    118613\n",
      "\n",
      "   micro avg       0.98      0.98      0.98    178395\n",
      "   macro avg       0.98      0.98      0.98    178395\n",
      "weighted avg       0.98      0.98      0.98    178395\n",
      "\n"
     ]
    }
   ],
   "source": [
    "print(classification_report(label,out_my))"
   ]
  },
  {
   "cell_type": "code",
   "execution_count": 18,
   "metadata": {},
   "outputs": [
    {
     "name": "stdout",
     "output_type": "stream",
     "text": [
      "[[ 57854   1928]\n",
      " [  1830 116783]]\n"
     ]
    }
   ],
   "source": [
    "print(confusion_matrix(label,out_my))"
   ]
  },
  {
   "cell_type": "code",
   "execution_count": 19,
   "metadata": {},
   "outputs": [
    {
     "data": {
      "text/plain": [
       "0.9789343871745284"
      ]
     },
     "execution_count": 19,
     "metadata": {},
     "output_type": "execute_result"
    }
   ],
   "source": [
    "accuracy_score(label,out_my)"
   ]
  },
  {
   "cell_type": "code",
   "execution_count": 20,
   "metadata": {},
   "outputs": [
    {
     "data": {
      "text/plain": [
       "0.9845716742684192"
      ]
     },
     "execution_count": 20,
     "metadata": {},
     "output_type": "execute_result"
    }
   ],
   "source": [
    "recall_score(label,out_my)"
   ]
  },
  {
   "cell_type": "markdown",
   "metadata": {},
   "source": [
    "# Malicious"
   ]
  },
  {
   "cell_type": "code",
   "execution_count": 8,
   "metadata": {},
   "outputs": [],
   "source": [
    "random = [i for i in range(12)]\n",
    "random.extend([j for j in range(26,34)])"
   ]
  },
  {
   "cell_type": "code",
   "execution_count": 9,
   "metadata": {},
   "outputs": [],
   "source": [
    "d = [str(i) for i in random]\n",
    "def getrandom(x):\n",
    "    return np.random.randint(0,256)\n",
    "for i in d:\n",
    "    train[i] = train[i].apply(lambda x:getrandom(x))\n",
    "d = [str(i) for i in range(784)]"
   ]
  },
  {
   "cell_type": "code",
   "execution_count": 10,
   "metadata": {},
   "outputs": [],
   "source": [
    "train = train[d]"
   ]
  },
  {
   "cell_type": "code",
   "execution_count": 39,
   "metadata": {},
   "outputs": [],
   "source": [
    "i = [str(i) for i in range(784,800)]"
   ]
  },
  {
   "cell_type": "code",
   "execution_count": 40,
   "metadata": {},
   "outputs": [],
   "source": [
    "test.drop(i,axis=1,inplace=True)"
   ]
  },
  {
   "cell_type": "code",
   "execution_count": 16,
   "metadata": {},
   "outputs": [],
   "source": [
    "test = test[d]"
   ]
  },
  {
   "cell_type": "code",
   "execution_count": 12,
   "metadata": {
    "scrolled": true
   },
   "outputs": [
    {
     "name": "stdout",
     "output_type": "stream",
     "text": [
      "WARNING:tensorflow:From /home/wade/.local/lib/python3.6/site-packages/tensorflow/python/framework/op_def_library.py:263: colocate_with (from tensorflow.python.framework.ops) is deprecated and will be removed in a future version.\n",
      "Instructions for updating:\n",
      "Colocations handled automatically by placer.\n",
      "WARNING:tensorflow:From /home/wade/.local/lib/python3.6/site-packages/keras/backend/tensorflow_backend.py:3445: calling dropout (from tensorflow.python.ops.nn_ops) with keep_prob is deprecated and will be removed in a future version.\n",
      "Instructions for updating:\n",
      "Please use `rate` instead of `keep_prob`. Rate should be set to `rate = 1 - keep_prob`.\n",
      "_________________________________________________________________\n",
      "Layer (type)                 Output Shape              Param #   \n",
      "=================================================================\n",
      "conv2d_1 (Conv2D)            (None, 28, 28, 32)        832       \n",
      "_________________________________________________________________\n",
      "max_pooling2d_1 (MaxPooling2 (None, 14, 14, 32)        0         \n",
      "_________________________________________________________________\n",
      "conv2d_2 (Conv2D)            (None, 14, 14, 64)        51264     \n",
      "_________________________________________________________________\n",
      "max_pooling2d_2 (MaxPooling2 (None, 7, 7, 64)          0         \n",
      "_________________________________________________________________\n",
      "flatten_1 (Flatten)          (None, 3136)              0         \n",
      "_________________________________________________________________\n",
      "dropout_1 (Dropout)          (None, 3136)              0         \n",
      "_________________________________________________________________\n",
      "dense_1 (Dense)              (None, 1024)              3212288   \n",
      "_________________________________________________________________\n",
      "dense_2 (Dense)              (None, 10)                10250     \n",
      "_________________________________________________________________\n",
      "dense_3 (Dense)              (None, 2)                 22        \n",
      "=================================================================\n",
      "Total params: 3,274,656\n",
      "Trainable params: 3,274,656\n",
      "Non-trainable params: 0\n",
      "_________________________________________________________________\n",
      "WARNING:tensorflow:From /home/wade/.local/lib/python3.6/site-packages/tensorflow/python/ops/math_ops.py:3066: to_int32 (from tensorflow.python.ops.math_ops) is deprecated and will be removed in a future version.\n",
      "Instructions for updating:\n",
      "Use tf.cast instead.\n",
      "Epoch 1/10\n",
      "236210/236210 [==============================] - 566s 2ms/step - loss: 0.1011 - acc: 0.9602\n",
      "Epoch 2/10\n",
      "236210/236210 [==============================] - 613s 3ms/step - loss: 0.0471 - acc: 0.9832\n",
      "Epoch 3/10\n",
      "236210/236210 [==============================] - 542s 2ms/step - loss: 0.0411 - acc: 0.9856\n",
      "Epoch 4/10\n",
      "236210/236210 [==============================] - 557s 2ms/step - loss: 0.0407 - acc: 0.9861\n",
      "Epoch 5/10\n",
      "236210/236210 [==============================] - 537s 2ms/step - loss: 0.0373 - acc: 0.9874\n",
      "Epoch 6/10\n",
      "236210/236210 [==============================] - 567s 2ms/step - loss: 0.0401 - acc: 0.9863\n",
      "Epoch 7/10\n",
      "236210/236210 [==============================] - 541s 2ms/step - loss: 0.0414 - acc: 0.9859\n",
      "Epoch 8/10\n",
      "236210/236210 [==============================] - 567s 2ms/step - loss: 0.0395 - acc: 0.9866\n",
      "Epoch 9/10\n",
      "236210/236210 [==============================] - 519s 2ms/step - loss: 0.0416 - acc: 0.9865\n",
      "Epoch 10/10\n",
      "236210/236210 [==============================] - 674s 3ms/step - loss: 0.0393 - acc: 0.9875\n"
     ]
    },
    {
     "data": {
      "text/plain": [
       "<keras.callbacks.History at 0x7f188701eda0>"
      ]
     },
     "execution_count": 12,
     "metadata": {},
     "output_type": "execute_result"
    }
   ],
   "source": [
    "model1 = Sequential()\n",
    "model1.add(Conv2D(32,(5,5),activation = 'relu',input_shape=(28,28,1),padding='same'))\n",
    "model1.add(MaxPooling2D(pool_size=(2, 2),padding='same',strides=(2,2)))\n",
    "model1.add(Conv2D(64,(5,5),activation = 'relu',padding='same'))\n",
    "model1.add(MaxPooling2D(pool_size=(2,2),padding='same',strides=(2,2)))\n",
    "model1.add(Flatten())\n",
    "model1.add(Dropout(0.5))\n",
    "model1.add(Dense(1024, activation='tanh'))\n",
    "model1.add(Dense(10, activation='tanh'))\n",
    "model1.add(Dense(2, activation='softmax'))\n",
    "model1.summary()\n",
    "\n",
    "rmsprop =RMSprop(lr=0.001, rho=0.9, epsilon=1e-08, decay=0.0)\n",
    "\n",
    "adam = Adam(lr=0.001,beta_1=0.9,beta_2=0.999,epsilon=1e-8)\n",
    "\n",
    "# model.compile(loss='categorical_crossentropy', optimizer=adam)\n",
    "model1.compile(optimizer=adam,\n",
    "              loss='categorical_crossentropy',\n",
    "              metrics=['accuracy'])\n",
    "\n",
    "model1.fit((train/255).values.reshape(236210,28,28,1), keras.utils.to_categorical(y.reshape(236210,1), num_classes=2), batch_size=50, epochs=10,shuffle=True)"
   ]
  },
  {
   "cell_type": "code",
   "execution_count": 35,
   "metadata": {},
   "outputs": [],
   "source": [
    "model = load_model('overmalicious.h5')"
   ]
  },
  {
   "cell_type": "code",
   "execution_count": 42,
   "metadata": {},
   "outputs": [],
   "source": [
    "out_mal = model.predict_classes((test.drop(['label','1024','src','dst'],axis=1)/255).values.reshape(178395,28,28,1))"
   ]
  },
  {
   "cell_type": "code",
   "execution_count": 20,
   "metadata": {},
   "outputs": [
    {
     "name": "stdout",
     "output_type": "stream",
     "text": [
      "              precision    recall  f1-score   support\n",
      "\n",
      "           0       0.96      0.97      0.96     59782\n",
      "           1       0.98      0.98      0.98    118613\n",
      "\n",
      "   micro avg       0.97      0.97      0.97    178395\n",
      "   macro avg       0.97      0.97      0.97    178395\n",
      "weighted avg       0.97      0.97      0.97    178395\n",
      "\n"
     ]
    }
   ],
   "source": [
    "print(classification_report(label,out_mal))\n"
   ]
  },
  {
   "cell_type": "code",
   "execution_count": 19,
   "metadata": {},
   "outputs": [
    {
     "data": {
      "text/plain": [
       "0.9787628674765835"
      ]
     },
     "execution_count": 19,
     "metadata": {},
     "output_type": "execute_result"
    }
   ],
   "source": [
    "recall_score(label,out_mal)\n"
   ]
  },
  {
   "cell_type": "code",
   "execution_count": 22,
   "metadata": {},
   "outputs": [
    {
     "name": "stdout",
     "output_type": "stream",
     "text": [
      "[[ 57703   2079]\n",
      " [  2519 116094]]\n"
     ]
    }
   ],
   "source": [
    "print(confusion_matrix(label,out_mal))"
   ]
  },
  {
   "cell_type": "markdown",
   "metadata": {},
   "source": [
    "# LSTM"
   ]
  },
  {
   "cell_type": "code",
   "execution_count": 3,
   "metadata": {},
   "outputs": [],
   "source": [
    "rnn_train = pd.read_csv('RNNtrain.csv',index_col=0)\n",
    "rnn_train.drop('index',axis=1,inplace=True)"
   ]
  },
  {
   "cell_type": "code",
   "execution_count": 23,
   "metadata": {},
   "outputs": [],
   "source": [
    "rnn_test = pd.read_csv('RNNtest.csv',index_col=0)\n",
    "rnn_test.drop('index',axis=1,inplace=True)\n"
   ]
  },
  {
   "cell_type": "code",
   "execution_count": 6,
   "metadata": {},
   "outputs": [],
   "source": [
    "normal = rnn_train[rnn_train['label'] == 0]\n",
    "rnn_train = pd.concat([rnn_train,normal.sample(frac=0.5)])\n",
    "rnn_train.reset_index(drop=True,inplace=True)\n",
    "y = rnn_train['label'].values"
   ]
  },
  {
   "cell_type": "code",
   "execution_count": 7,
   "metadata": {},
   "outputs": [],
   "source": [
    "r = [str(i) for i in range(800)]\n",
    "rnn_train = rnn_train[r]\n"
   ]
  },
  {
   "cell_type": "code",
   "execution_count": 15,
   "metadata": {},
   "outputs": [],
   "source": [
    "rnn_test = rnn_test[r]"
   ]
  },
  {
   "cell_type": "code",
   "execution_count": 9,
   "metadata": {},
   "outputs": [
    {
     "name": "stdout",
     "output_type": "stream",
     "text": [
      "WARNING:tensorflow:From /home/wade/.local/lib/python3.6/site-packages/tensorflow/python/framework/op_def_library.py:263: colocate_with (from tensorflow.python.framework.ops) is deprecated and will be removed in a future version.\n",
      "Instructions for updating:\n",
      "Colocations handled automatically by placer.\n",
      "WARNING:tensorflow:From /home/wade/.local/lib/python3.6/site-packages/keras/backend/tensorflow_backend.py:3445: calling dropout (from tensorflow.python.ops.nn_ops) with keep_prob is deprecated and will be removed in a future version.\n",
      "Instructions for updating:\n",
      "Please use `rate` instead of `keep_prob`. Rate should be set to `rate = 1 - keep_prob`.\n",
      "WARNING:tensorflow:From /home/wade/.local/lib/python3.6/site-packages/tensorflow/python/ops/math_ops.py:3066: to_int32 (from tensorflow.python.ops.math_ops) is deprecated and will be removed in a future version.\n",
      "Instructions for updating:\n",
      "Use tf.cast instead.\n",
      "Epoch 1/10\n",
      "236210/236210 [==============================] - 161s 682us/step - loss: 0.1259 - acc: 0.9502\n",
      "Epoch 2/10\n",
      "236210/236210 [==============================] - 164s 693us/step - loss: 0.0543 - acc: 0.9794\n",
      "Epoch 3/10\n",
      "236210/236210 [==============================] - 164s 696us/step - loss: 0.0268 - acc: 0.9903\n",
      "Epoch 4/10\n",
      "236210/236210 [==============================] - 167s 709us/step - loss: 0.0175 - acc: 0.9936\n",
      "Epoch 5/10\n",
      "236210/236210 [==============================] - 167s 708us/step - loss: 0.0132 - acc: 0.9952\n",
      "Epoch 6/10\n",
      "236210/236210 [==============================] - 168s 711us/step - loss: 0.0105 - acc: 0.9961\n",
      "Epoch 7/10\n",
      "236210/236210 [==============================] - 167s 709us/step - loss: 0.0088 - acc: 0.9969\n",
      "Epoch 8/10\n",
      "236210/236210 [==============================] - 168s 712us/step - loss: 0.0080 - acc: 0.9973\n",
      "Epoch 9/10\n",
      "236210/236210 [==============================] - 167s 705us/step - loss: 0.0070 - acc: 0.9976\n",
      "Epoch 10/10\n",
      "236210/236210 [==============================] - 144s 609us/step - loss: 0.0057 - acc: 0.9980\n"
     ]
    },
    {
     "data": {
      "text/plain": [
       "<keras.callbacks.History at 0x7f4771dbbf98>"
      ]
     },
     "execution_count": 9,
     "metadata": {},
     "output_type": "execute_result"
    }
   ],
   "source": [
    "model = Sequential()\n",
    "\n",
    "model.add(Bidirectional(LSTM(16,input_shape=(50,16), return_sequences=True)))\n",
    "\n",
    "model.add(Flatten())\n",
    "model.add(Dropout(0.2))\n",
    "model.add(Dense(128, activation='tanh'))\n",
    "model.add(Dense(2, activation='softmax'))\n",
    "\n",
    "model.compile(loss='mean_squared_error', optimizer='adam') \n",
    "\n",
    "rmsprop =RMSprop(lr=0.001, rho=0.9, epsilon=1e-08, decay=0.0)\n",
    "\n",
    "adam = Adam(lr=0.001,beta_1=0.9,beta_2=0.999,epsilon=1e-8)\n",
    "sgd = SGD(lr=0.01, decay=1e-6, momentum=0.9, nesterov=True)\n",
    "# model.compile(loss='categorical_crossentropy', optimizer=adam)\n",
    "\n",
    "model.compile(optimizer=adam,\n",
    "              loss='categorical_crossentropy',\n",
    "              metrics=['accuracy'])\n",
    "\n",
    "model.fit((rnn_train/255).values.reshape(236210,50,16), keras.utils.to_categorical(y.reshape(236210,1), num_classes=2), batch_size=50, epochs=10)\n"
   ]
  },
  {
   "cell_type": "code",
   "execution_count": 63,
   "metadata": {},
   "outputs": [],
   "source": [
    "model = load_model('overlstm.h5')"
   ]
  },
  {
   "cell_type": "code",
   "execution_count": 64,
   "metadata": {
    "collapsed": true
   },
   "outputs": [
    {
     "ename": "KeyboardInterrupt",
     "evalue": "",
     "output_type": "error",
     "traceback": [
      "\u001b[0;31m---------------------------------------------------------------------------\u001b[0m",
      "\u001b[0;31mKeyboardInterrupt\u001b[0m                         Traceback (most recent call last)",
      "\u001b[0;32m<ipython-input-64-1979cef33f12>\u001b[0m in \u001b[0;36m<module>\u001b[0;34m()\u001b[0m\n\u001b[0;32m----> 1\u001b[0;31m \u001b[0mout_lstm\u001b[0m \u001b[0;34m=\u001b[0m \u001b[0mmodel\u001b[0m\u001b[0;34m.\u001b[0m\u001b[0mpredict_classes\u001b[0m\u001b[0;34m(\u001b[0m\u001b[0;34m(\u001b[0m\u001b[0mrnn_test\u001b[0m\u001b[0;34m.\u001b[0m\u001b[0mdrop\u001b[0m\u001b[0;34m(\u001b[0m\u001b[0;34m[\u001b[0m\u001b[0;34m'label'\u001b[0m\u001b[0;34m,\u001b[0m\u001b[0;34m'800'\u001b[0m\u001b[0;34m,\u001b[0m\u001b[0;34m'src'\u001b[0m\u001b[0;34m,\u001b[0m\u001b[0;34m'dst'\u001b[0m\u001b[0;34m]\u001b[0m\u001b[0;34m,\u001b[0m\u001b[0maxis\u001b[0m\u001b[0;34m=\u001b[0m\u001b[0;36m1\u001b[0m\u001b[0;34m)\u001b[0m\u001b[0;34m/\u001b[0m\u001b[0;36m255\u001b[0m\u001b[0;34m)\u001b[0m\u001b[0;34m.\u001b[0m\u001b[0mvalues\u001b[0m\u001b[0;34m.\u001b[0m\u001b[0mreshape\u001b[0m\u001b[0;34m(\u001b[0m\u001b[0;36m178395\u001b[0m\u001b[0;34m,\u001b[0m\u001b[0;36m50\u001b[0m\u001b[0;34m,\u001b[0m\u001b[0;36m16\u001b[0m\u001b[0;34m)\u001b[0m\u001b[0;34m)\u001b[0m\u001b[0;34m\u001b[0m\u001b[0;34m\u001b[0m\u001b[0m\n\u001b[0m",
      "\u001b[0;32m/home/wade/.local/lib/python3.6/site-packages/keras/engine/sequential.py\u001b[0m in \u001b[0;36mpredict_classes\u001b[0;34m(self, x, batch_size, verbose)\u001b[0m\n\u001b[1;32m    265\u001b[0m             \u001b[0mA\u001b[0m \u001b[0mnumpy\u001b[0m \u001b[0marray\u001b[0m \u001b[0mof\u001b[0m \u001b[0;32mclass\u001b[0m \u001b[0mpredictions\u001b[0m\u001b[0;34m.\u001b[0m\u001b[0;34m\u001b[0m\u001b[0;34m\u001b[0m\u001b[0m\n\u001b[1;32m    266\u001b[0m         \"\"\"\n\u001b[0;32m--> 267\u001b[0;31m         \u001b[0mproba\u001b[0m \u001b[0;34m=\u001b[0m \u001b[0mself\u001b[0m\u001b[0;34m.\u001b[0m\u001b[0mpredict\u001b[0m\u001b[0;34m(\u001b[0m\u001b[0mx\u001b[0m\u001b[0;34m,\u001b[0m \u001b[0mbatch_size\u001b[0m\u001b[0;34m=\u001b[0m\u001b[0mbatch_size\u001b[0m\u001b[0;34m,\u001b[0m \u001b[0mverbose\u001b[0m\u001b[0;34m=\u001b[0m\u001b[0mverbose\u001b[0m\u001b[0;34m)\u001b[0m\u001b[0;34m\u001b[0m\u001b[0;34m\u001b[0m\u001b[0m\n\u001b[0m\u001b[1;32m    268\u001b[0m         \u001b[0;32mif\u001b[0m \u001b[0mproba\u001b[0m\u001b[0;34m.\u001b[0m\u001b[0mshape\u001b[0m\u001b[0;34m[\u001b[0m\u001b[0;34m-\u001b[0m\u001b[0;36m1\u001b[0m\u001b[0;34m]\u001b[0m \u001b[0;34m>\u001b[0m \u001b[0;36m1\u001b[0m\u001b[0;34m:\u001b[0m\u001b[0;34m\u001b[0m\u001b[0;34m\u001b[0m\u001b[0m\n\u001b[1;32m    269\u001b[0m             \u001b[0;32mreturn\u001b[0m \u001b[0mproba\u001b[0m\u001b[0;34m.\u001b[0m\u001b[0margmax\u001b[0m\u001b[0;34m(\u001b[0m\u001b[0maxis\u001b[0m\u001b[0;34m=\u001b[0m\u001b[0;34m-\u001b[0m\u001b[0;36m1\u001b[0m\u001b[0;34m)\u001b[0m\u001b[0;34m\u001b[0m\u001b[0;34m\u001b[0m\u001b[0m\n",
      "\u001b[0;32m/home/wade/.local/lib/python3.6/site-packages/keras/engine/training.py\u001b[0m in \u001b[0;36mpredict\u001b[0;34m(self, x, batch_size, verbose, steps)\u001b[0m\n\u001b[1;32m   1167\u001b[0m                                             \u001b[0mbatch_size\u001b[0m\u001b[0;34m=\u001b[0m\u001b[0mbatch_size\u001b[0m\u001b[0;34m,\u001b[0m\u001b[0;34m\u001b[0m\u001b[0;34m\u001b[0m\u001b[0m\n\u001b[1;32m   1168\u001b[0m                                             \u001b[0mverbose\u001b[0m\u001b[0;34m=\u001b[0m\u001b[0mverbose\u001b[0m\u001b[0;34m,\u001b[0m\u001b[0;34m\u001b[0m\u001b[0;34m\u001b[0m\u001b[0m\n\u001b[0;32m-> 1169\u001b[0;31m                                             steps=steps)\n\u001b[0m\u001b[1;32m   1170\u001b[0m \u001b[0;34m\u001b[0m\u001b[0m\n\u001b[1;32m   1171\u001b[0m     def train_on_batch(self, x, y,\n",
      "\u001b[0;32m/home/wade/.local/lib/python3.6/site-packages/keras/engine/training_arrays.py\u001b[0m in \u001b[0;36mpredict_loop\u001b[0;34m(model, f, ins, batch_size, verbose, steps)\u001b[0m\n\u001b[1;32m    292\u001b[0m                 \u001b[0mins_batch\u001b[0m\u001b[0;34m[\u001b[0m\u001b[0mi\u001b[0m\u001b[0;34m]\u001b[0m \u001b[0;34m=\u001b[0m \u001b[0mins_batch\u001b[0m\u001b[0;34m[\u001b[0m\u001b[0mi\u001b[0m\u001b[0;34m]\u001b[0m\u001b[0;34m.\u001b[0m\u001b[0mtoarray\u001b[0m\u001b[0;34m(\u001b[0m\u001b[0;34m)\u001b[0m\u001b[0;34m\u001b[0m\u001b[0;34m\u001b[0m\u001b[0m\n\u001b[1;32m    293\u001b[0m \u001b[0;34m\u001b[0m\u001b[0m\n\u001b[0;32m--> 294\u001b[0;31m             \u001b[0mbatch_outs\u001b[0m \u001b[0;34m=\u001b[0m \u001b[0mf\u001b[0m\u001b[0;34m(\u001b[0m\u001b[0mins_batch\u001b[0m\u001b[0;34m)\u001b[0m\u001b[0;34m\u001b[0m\u001b[0;34m\u001b[0m\u001b[0m\n\u001b[0m\u001b[1;32m    295\u001b[0m             \u001b[0mbatch_outs\u001b[0m \u001b[0;34m=\u001b[0m \u001b[0mto_list\u001b[0m\u001b[0;34m(\u001b[0m\u001b[0mbatch_outs\u001b[0m\u001b[0;34m)\u001b[0m\u001b[0;34m\u001b[0m\u001b[0;34m\u001b[0m\u001b[0m\n\u001b[1;32m    296\u001b[0m             \u001b[0;32mif\u001b[0m \u001b[0mbatch_index\u001b[0m \u001b[0;34m==\u001b[0m \u001b[0;36m0\u001b[0m\u001b[0;34m:\u001b[0m\u001b[0;34m\u001b[0m\u001b[0;34m\u001b[0m\u001b[0m\n",
      "\u001b[0;32m/home/wade/.local/lib/python3.6/site-packages/keras/backend/tensorflow_backend.py\u001b[0m in \u001b[0;36m__call__\u001b[0;34m(self, inputs)\u001b[0m\n\u001b[1;32m   2713\u001b[0m                 \u001b[0;32mreturn\u001b[0m \u001b[0mself\u001b[0m\u001b[0;34m.\u001b[0m\u001b[0m_legacy_call\u001b[0m\u001b[0;34m(\u001b[0m\u001b[0minputs\u001b[0m\u001b[0;34m)\u001b[0m\u001b[0;34m\u001b[0m\u001b[0;34m\u001b[0m\u001b[0m\n\u001b[1;32m   2714\u001b[0m \u001b[0;34m\u001b[0m\u001b[0m\n\u001b[0;32m-> 2715\u001b[0;31m             \u001b[0;32mreturn\u001b[0m \u001b[0mself\u001b[0m\u001b[0;34m.\u001b[0m\u001b[0m_call\u001b[0m\u001b[0;34m(\u001b[0m\u001b[0minputs\u001b[0m\u001b[0;34m)\u001b[0m\u001b[0;34m\u001b[0m\u001b[0;34m\u001b[0m\u001b[0m\n\u001b[0m\u001b[1;32m   2716\u001b[0m         \u001b[0;32melse\u001b[0m\u001b[0;34m:\u001b[0m\u001b[0;34m\u001b[0m\u001b[0;34m\u001b[0m\u001b[0m\n\u001b[1;32m   2717\u001b[0m             \u001b[0;32mif\u001b[0m \u001b[0mpy_any\u001b[0m\u001b[0;34m(\u001b[0m\u001b[0mis_tensor\u001b[0m\u001b[0;34m(\u001b[0m\u001b[0mx\u001b[0m\u001b[0;34m)\u001b[0m \u001b[0;32mfor\u001b[0m \u001b[0mx\u001b[0m \u001b[0;32min\u001b[0m \u001b[0minputs\u001b[0m\u001b[0;34m)\u001b[0m\u001b[0;34m:\u001b[0m\u001b[0;34m\u001b[0m\u001b[0;34m\u001b[0m\u001b[0m\n",
      "\u001b[0;32m/home/wade/.local/lib/python3.6/site-packages/keras/backend/tensorflow_backend.py\u001b[0m in \u001b[0;36m_call\u001b[0;34m(self, inputs)\u001b[0m\n\u001b[1;32m   2673\u001b[0m             \u001b[0mfetched\u001b[0m \u001b[0;34m=\u001b[0m \u001b[0mself\u001b[0m\u001b[0;34m.\u001b[0m\u001b[0m_callable_fn\u001b[0m\u001b[0;34m(\u001b[0m\u001b[0;34m*\u001b[0m\u001b[0marray_vals\u001b[0m\u001b[0;34m,\u001b[0m \u001b[0mrun_metadata\u001b[0m\u001b[0;34m=\u001b[0m\u001b[0mself\u001b[0m\u001b[0;34m.\u001b[0m\u001b[0mrun_metadata\u001b[0m\u001b[0;34m)\u001b[0m\u001b[0;34m\u001b[0m\u001b[0;34m\u001b[0m\u001b[0m\n\u001b[1;32m   2674\u001b[0m         \u001b[0;32melse\u001b[0m\u001b[0;34m:\u001b[0m\u001b[0;34m\u001b[0m\u001b[0;34m\u001b[0m\u001b[0m\n\u001b[0;32m-> 2675\u001b[0;31m             \u001b[0mfetched\u001b[0m \u001b[0;34m=\u001b[0m \u001b[0mself\u001b[0m\u001b[0;34m.\u001b[0m\u001b[0m_callable_fn\u001b[0m\u001b[0;34m(\u001b[0m\u001b[0;34m*\u001b[0m\u001b[0marray_vals\u001b[0m\u001b[0;34m)\u001b[0m\u001b[0;34m\u001b[0m\u001b[0;34m\u001b[0m\u001b[0m\n\u001b[0m\u001b[1;32m   2676\u001b[0m         \u001b[0;32mreturn\u001b[0m \u001b[0mfetched\u001b[0m\u001b[0;34m[\u001b[0m\u001b[0;34m:\u001b[0m\u001b[0mlen\u001b[0m\u001b[0;34m(\u001b[0m\u001b[0mself\u001b[0m\u001b[0;34m.\u001b[0m\u001b[0moutputs\u001b[0m\u001b[0;34m)\u001b[0m\u001b[0;34m]\u001b[0m\u001b[0;34m\u001b[0m\u001b[0;34m\u001b[0m\u001b[0m\n\u001b[1;32m   2677\u001b[0m \u001b[0;34m\u001b[0m\u001b[0m\n",
      "\u001b[0;32m/home/wade/.local/lib/python3.6/site-packages/tensorflow/python/client/session.py\u001b[0m in \u001b[0;36m__call__\u001b[0;34m(self, *args, **kwargs)\u001b[0m\n\u001b[1;32m   1437\u001b[0m           ret = tf_session.TF_SessionRunCallable(\n\u001b[1;32m   1438\u001b[0m               \u001b[0mself\u001b[0m\u001b[0;34m.\u001b[0m\u001b[0m_session\u001b[0m\u001b[0;34m.\u001b[0m\u001b[0m_session\u001b[0m\u001b[0;34m,\u001b[0m \u001b[0mself\u001b[0m\u001b[0;34m.\u001b[0m\u001b[0m_handle\u001b[0m\u001b[0;34m,\u001b[0m \u001b[0margs\u001b[0m\u001b[0;34m,\u001b[0m \u001b[0mstatus\u001b[0m\u001b[0;34m,\u001b[0m\u001b[0;34m\u001b[0m\u001b[0;34m\u001b[0m\u001b[0m\n\u001b[0;32m-> 1439\u001b[0;31m               run_metadata_ptr)\n\u001b[0m\u001b[1;32m   1440\u001b[0m         \u001b[0;32mif\u001b[0m \u001b[0mrun_metadata\u001b[0m\u001b[0;34m:\u001b[0m\u001b[0;34m\u001b[0m\u001b[0;34m\u001b[0m\u001b[0m\n\u001b[1;32m   1441\u001b[0m           \u001b[0mproto_data\u001b[0m \u001b[0;34m=\u001b[0m \u001b[0mtf_session\u001b[0m\u001b[0;34m.\u001b[0m\u001b[0mTF_GetBuffer\u001b[0m\u001b[0;34m(\u001b[0m\u001b[0mrun_metadata_ptr\u001b[0m\u001b[0;34m)\u001b[0m\u001b[0;34m\u001b[0m\u001b[0;34m\u001b[0m\u001b[0m\n",
      "\u001b[0;31mKeyboardInterrupt\u001b[0m: "
     ]
    }
   ],
   "source": [
    "out_lstm = model.predict_classes((rnn_test.drop(['label','800','src','dst'],axis=1)/255).values.reshape(178395,50,16))"
   ]
  },
  {
   "cell_type": "code",
   "execution_count": 18,
   "metadata": {},
   "outputs": [
    {
     "data": {
      "text/plain": [
       "0.9882222016136512"
      ]
     },
     "execution_count": 18,
     "metadata": {},
     "output_type": "execute_result"
    }
   ],
   "source": [
    "recall_score(label,out_lstm)\n"
   ]
  },
  {
   "cell_type": "code",
   "execution_count": 19,
   "metadata": {},
   "outputs": [
    {
     "name": "stdout",
     "output_type": "stream",
     "text": [
      "[[ 57813   1969]\n",
      " [  1397 117216]]\n"
     ]
    }
   ],
   "source": [
    "print(confusion_matrix(label,out_lstm))\n"
   ]
  },
  {
   "cell_type": "code",
   "execution_count": 20,
   "metadata": {},
   "outputs": [
    {
     "name": "stdout",
     "output_type": "stream",
     "text": [
      "              precision    recall  f1-score   support\n",
      "\n",
      "           0       0.98      0.97      0.97     59782\n",
      "           1       0.98      0.99      0.99    118613\n",
      "\n",
      "   micro avg       0.98      0.98      0.98    178395\n",
      "   macro avg       0.98      0.98      0.98    178395\n",
      "weighted avg       0.98      0.98      0.98    178395\n",
      "\n"
     ]
    }
   ],
   "source": [
    "print(classification_report(label,out_lstm))\n"
   ]
  },
  {
   "cell_type": "code",
   "execution_count": 21,
   "metadata": {
    "scrolled": true
   },
   "outputs": [
    {
     "data": {
      "text/plain": [
       "0.981131758177079"
      ]
     },
     "execution_count": 21,
     "metadata": {},
     "output_type": "execute_result"
    }
   ],
   "source": [
    "accuracy_score(label,out_lstm)"
   ]
  },
  {
   "cell_type": "markdown",
   "metadata": {},
   "source": [
    "# RC"
   ]
  },
  {
   "cell_type": "code",
   "execution_count": 21,
   "metadata": {},
   "outputs": [],
   "source": [
    "rnn_train = pd.read_csv('RNNtrain.csv',index_col=0)\n",
    "rnn_train.drop('index',axis=1,inplace=True)\n",
    "normal = rnn_train[rnn_train['label'] == 0]\n",
    "normal = normal.sample(frac=0.5)\n",
    "# rnn_train = pd.concat([rnn_train,normal.sample(frac=0.5)])\n"
   ]
  },
  {
   "cell_type": "code",
   "execution_count": 33,
   "metadata": {},
   "outputs": [],
   "source": [
    "rnn_train.reset_index(drop=True,inplace=True)"
   ]
  },
  {
   "cell_type": "code",
   "execution_count": 25,
   "metadata": {},
   "outputs": [],
   "source": [
    "rnn_train = pd.concat([rnn_train,normal])"
   ]
  },
  {
   "cell_type": "code",
   "execution_count": 26,
   "metadata": {},
   "outputs": [],
   "source": [
    "train = pd.read_csv('CNNtrain.csv',index_col=0)\n",
    "train.drop('index',axis=1,inplace=True)"
   ]
  },
  {
   "cell_type": "code",
   "execution_count": 31,
   "metadata": {},
   "outputs": [],
   "source": [
    "y = train['label']"
   ]
  },
  {
   "cell_type": "code",
   "execution_count": 27,
   "metadata": {},
   "outputs": [],
   "source": [
    "train = pd.concat([train,train.loc[normal.index]])"
   ]
  },
  {
   "cell_type": "code",
   "execution_count": 34,
   "metadata": {},
   "outputs": [],
   "source": [
    "train.reset_index(drop=True,inplace=True)"
   ]
  },
  {
   "cell_type": "code",
   "execution_count": 37,
   "metadata": {},
   "outputs": [],
   "source": [
    "ny = rnn_train['label']"
   ]
  },
  {
   "cell_type": "code",
   "execution_count": 5,
   "metadata": {},
   "outputs": [],
   "source": [
    "d = [str(i) for i in range(1024)]\n",
    "r = [str(i) for i in range(800)]"
   ]
  },
  {
   "cell_type": "code",
   "execution_count": 41,
   "metadata": {},
   "outputs": [],
   "source": [
    "train = train[d]\n",
    "rnn_train = rnn_train[r]"
   ]
  },
  {
   "cell_type": "code",
   "execution_count": 3,
   "metadata": {},
   "outputs": [],
   "source": [
    "rnn_test = pd.read_csv('RNNtest.csv',index_col=0)\n",
    "rnn_test.drop('index',axis=1,inplace=True)\n",
    "test = pd.read_csv('CNNtest.csv',index_col=0)\n",
    "test.drop('index',axis=1,inplace=True)\n",
    "label = test['label']"
   ]
  },
  {
   "cell_type": "code",
   "execution_count": 6,
   "metadata": {},
   "outputs": [],
   "source": [
    "rnn_test = rnn_test[r]\n",
    "test = test[d]"
   ]
  },
  {
   "cell_type": "code",
   "execution_count": 45,
   "metadata": {
    "collapsed": true
   },
   "outputs": [
    {
     "name": "stderr",
     "output_type": "stream",
     "text": [
      "/usr/lib/python3/dist-packages/ipykernel_launcher.py:24: UserWarning: Update your `Model` call to the Keras 2 API: `Model(inputs=[<tf.Tenso..., outputs=Tensor(\"de...)`\n"
     ]
    },
    {
     "name": "stdout",
     "output_type": "stream",
     "text": [
      "Epoch 1/10\n",
      "236210/236210 [==============================] - 2069s 9ms/step - loss: 0.0709 - acc: 0.9728\n",
      "Epoch 2/10\n",
      "236210/236210 [==============================] - 2035s 9ms/step - loss: 0.0246 - acc: 0.9914\n",
      "Epoch 3/10\n",
      "236210/236210 [==============================] - 2037s 9ms/step - loss: 0.0193 - acc: 0.9934\n",
      "Epoch 4/10\n",
      "236210/236210 [==============================] - 2035s 9ms/step - loss: 0.0244 - acc: 0.9919\n",
      "Epoch 5/10\n",
      "236210/236210 [==============================] - 2033s 9ms/step - loss: 0.0198 - acc: 0.9933\n",
      "Epoch 6/10\n",
      "236210/236210 [==============================] - 2029s 9ms/step - loss: 0.0199 - acc: 0.9935\n",
      "Epoch 7/10\n",
      "236210/236210 [==============================] - 2029s 9ms/step - loss: 0.0213 - acc: 0.9932\n",
      "Epoch 8/10\n",
      "236210/236210 [==============================] - 2029s 9ms/step - loss: 0.0195 - acc: 0.9935\n",
      "Epoch 9/10\n",
      "236210/236210 [==============================] - 2029s 9ms/step - loss: 0.0217 - acc: 0.9930\n",
      "Epoch 10/10\n",
      "236210/236210 [==============================] - 2030s 9ms/step - loss: 0.0208 - acc: 0.9930\n"
     ]
    },
    {
     "data": {
      "text/plain": [
       "<keras.callbacks.History at 0x7fecede97ba8>"
      ]
     },
     "execution_count": 45,
     "metadata": {},
     "output_type": "execute_result"
    }
   ],
   "source": [
    "input1 = Input(shape=(50,16))\n",
    "L1_1 = Bidirectional(LSTM(256,return_sequences=True))(input1)\n",
    "L1_1 = Dropout(0.2)(L1_1)\n",
    "F1_1 = Flatten()(L1_1)\n",
    "D1_1 = Dense(256,activation='tanh')(F1_1)\n",
    "D1_2 = Dense(10,activation='tanh')(D1_1)\n",
    "\n",
    "\n",
    "input2 = Input(shape=(32,32,1))\n",
    "C1_1 = Conv2D(32,(5,5),activation = 'relu',padding='same')(input2)\n",
    "M1_1 = MaxPooling2D(pool_size=(2, 2),padding='same',strides=(2,2))(C1_1)\n",
    "C1_2 = Conv2D(64,(5,5),activation = 'relu',padding='same')(M1_1)\n",
    "M1_2 = MaxPooling2D(pool_size=(2,2),padding='same',strides=(2,2))(C1_2)\n",
    "F2_2 = Flatten()(M1_2)\n",
    "M1_2 = Dropout(0.5)(F2_2)\n",
    "D2_1 = Dense(1024, activation='tanh')(M1_2)\n",
    "D2_2 = Dense(10, activation='tanh')(D2_1)\n",
    "\n",
    "x = keras.layers.concatenate([D1_2,D2_2])\n",
    "O = Dense(2,activation='softmax')(x)\n",
    "\n",
    "\n",
    "\n",
    "model = Model(input=[input1,input2],output=O)\n",
    "\n",
    "\n",
    "adam = Adam(lr=0.001,beta_1=0.9,beta_2=0.999,epsilon=1e-8)\n",
    "sgd = SGD(lr=0.01, decay=1e-6, momentum=0.9, nesterov=True)\n",
    "# model.compile(loss='categorical_crossentropy', optimizer=adam)\n",
    "model.compile(optimizer=adam,\n",
    "              loss='categorical_crossentropy',\n",
    "              metrics=['accuracy'])\n",
    "\n",
    "model.fit([(rnn_train/255).values.reshape(236210,50,16),(train/255).values.reshape(236210,32,32,1)],keras.utils.to_categorical(y.values.reshape(236210,1), num_classes=2), batch_size=50, epochs=10,shuffle=True)"
   ]
  },
  {
   "cell_type": "code",
   "execution_count": 8,
   "metadata": {},
   "outputs": [
    {
     "name": "stdout",
     "output_type": "stream",
     "text": [
      "WARNING:tensorflow:From /home/wade/.local/lib/python3.6/site-packages/tensorflow/python/framework/op_def_library.py:263: colocate_with (from tensorflow.python.framework.ops) is deprecated and will be removed in a future version.\n",
      "Instructions for updating:\n",
      "Colocations handled automatically by placer.\n",
      "WARNING:tensorflow:From /home/wade/.local/lib/python3.6/site-packages/keras/backend/tensorflow_backend.py:3445: calling dropout (from tensorflow.python.ops.nn_ops) with keep_prob is deprecated and will be removed in a future version.\n",
      "Instructions for updating:\n",
      "Please use `rate` instead of `keep_prob`. Rate should be set to `rate = 1 - keep_prob`.\n",
      "WARNING:tensorflow:From /home/wade/.local/lib/python3.6/site-packages/tensorflow/python/ops/math_ops.py:3066: to_int32 (from tensorflow.python.ops.math_ops) is deprecated and will be removed in a future version.\n",
      "Instructions for updating:\n",
      "Use tf.cast instead.\n"
     ]
    }
   ],
   "source": [
    "model = load_model('overrc.h5')"
   ]
  },
  {
   "cell_type": "code",
   "execution_count": 9,
   "metadata": {},
   "outputs": [],
   "source": [
    "out_over_cr = model.predict([(rnn_test/255).values.reshape(178395,50,16),(test/255).values.reshape(178395,32,32,1)])"
   ]
  },
  {
   "cell_type": "code",
   "execution_count": 10,
   "metadata": {},
   "outputs": [],
   "source": [
    "out_over_cr = np.argmax(out_over_cr,axis=1)"
   ]
  },
  {
   "cell_type": "code",
   "execution_count": 11,
   "metadata": {},
   "outputs": [
    {
     "data": {
      "text/plain": [
       "0.9827337644271708"
      ]
     },
     "execution_count": 11,
     "metadata": {},
     "output_type": "execute_result"
    }
   ],
   "source": [
    "recall_score(label,out_over_cr)\n"
   ]
  },
  {
   "cell_type": "code",
   "execution_count": 13,
   "metadata": {},
   "outputs": [
    {
     "name": "stdout",
     "output_type": "stream",
     "text": [
      "              precision    recall  f1-score   support\n",
      "\n",
      "           0       0.97      0.96      0.96     59782\n",
      "           1       0.98      0.98      0.98    118613\n",
      "\n",
      "   micro avg       0.97      0.97      0.97    178395\n",
      "   macro avg       0.97      0.97      0.97    178395\n",
      "weighted avg       0.97      0.97      0.97    178395\n",
      "\n"
     ]
    }
   ],
   "source": [
    "print(classification_report(label,out_over_cr))\n"
   ]
  },
  {
   "cell_type": "code",
   "execution_count": 15,
   "metadata": {},
   "outputs": [
    {
     "name": "stdout",
     "output_type": "stream",
     "text": [
      "[[ 57136   2646]\n",
      " [  2048 116565]]\n"
     ]
    }
   ],
   "source": [
    "print(confusion_matrix(label,out_over_cr))"
   ]
  },
  {
   "cell_type": "markdown",
   "metadata": {},
   "source": [
    "# Analysis"
   ]
  },
  {
   "cell_type": "code",
   "execution_count": 9,
   "metadata": {},
   "outputs": [],
   "source": [
    "malicious_list = {\n",
    "'IRC':IRC2,'Neris':['147.32.84.180'],\n",
    "'RBot' :['147.32.84.170'],\n",
    "'Menti':['147.32.84.150'],\n",
    "'Sogou': ['147.32.84.140'],\n",
    "'Murlo':['147.32.84.130'],\n",
    "'Virut' :['147.32.84.160'],\n",
    "'IRCbot_black_hole1':['10.0.2.15'],\n",
    "'Black_hole_2': ['192.168.106.141'],\n",
    "'Black_hole_3': ['192.168.106.131'],\n",
    "'TBot': ['172.16.253.130', '172.16.253.131', '172.16.253.129', '172.16.253.240'],\n",
    "'Weasel': ['74.78.117.238','158.65.110.24'],\n",
    "'Zeus' : ['192.168.3.35','192.168.3.25', '192.168.3.65', '172.29.0.116'],\n",
    "'Osx_trojan': ['172.29.0.109'],\n",
    "'Zero_access': ['172.16.253.132', '192.168.248.165'],\n",
    "'Smoke bot': ['10.37.130.4']}"
   ]
  },
  {
   "cell_type": "code",
   "execution_count": 8,
   "metadata": {},
   "outputs": [],
   "source": [
    "train_distribution = {}\n",
    "test_distribution = {}\n",
    "find_distribution = {}\n",
    "for i in malicious_list:\n",
    "    test_distribution[i] = 0\n",
    "    find_distribution[i] = 0\n",
    "    train_distribution[i] = 0"
   ]
  },
  {
   "cell_type": "code",
   "execution_count": 9,
   "metadata": {},
   "outputs": [],
   "source": [
    "for label,row in train.iterrows():\n",
    "    if row['label']==1:\n",
    "        for i in malicious_list:\n",
    "            if row['src'] in malicious_list[i] or row['dst'] in malicious_list[i]:\n",
    "                train_distribution[i] +=1\n",
    "                continue"
   ]
  },
  {
   "cell_type": "code",
   "execution_count": 10,
   "metadata": {},
   "outputs": [
    {
     "data": {
      "text/plain": [
       "{'Black_hole_2': 0,\n",
       " 'Black_hole_3': 0,\n",
       " 'IRC': 77143,\n",
       " 'IRCbot_black_hole1': 0,\n",
       " 'Menti': 0,\n",
       " 'Murlo': 0,\n",
       " 'Neris': 14443,\n",
       " 'Osx_trojan': 0,\n",
       " 'RBot': 31526,\n",
       " 'Smoke bot': 0,\n",
       " 'Sogou': 0,\n",
       " 'TBot': 0,\n",
       " 'Virut': 864,\n",
       " 'Weasel': 4607,\n",
       " 'Zero_access': 0,\n",
       " 'Zeus': 0}"
      ]
     },
     "execution_count": 10,
     "metadata": {},
     "output_type": "execute_result"
    }
   ],
   "source": [
    "train_distribution"
   ]
  },
  {
   "cell_type": "code",
   "execution_count": 11,
   "metadata": {},
   "outputs": [],
   "source": [
    "for label,row in test.iterrows():\n",
    "    if row['label']==1:\n",
    "        for i in malicious_list:\n",
    "            if row['src'] in malicious_list[i] or row['dst'] in malicious_list[i]:\n",
    "                test_distribution[i] +=1\n",
    "                continue"
   ]
  },
  {
   "cell_type": "code",
   "execution_count": 12,
   "metadata": {},
   "outputs": [
    {
     "data": {
      "text/plain": [
       "{'Black_hole_2': 19,\n",
       " 'Black_hole_3': 122,\n",
       " 'IRC': 10361,\n",
       " 'IRCbot_black_hole1': 38,\n",
       " 'Menti': 4539,\n",
       " 'Murlo': 8669,\n",
       " 'Neris': 19481,\n",
       " 'Osx_trojan': 15,\n",
       " 'RBot': 165,\n",
       " 'Smoke bot': 66,\n",
       " 'Sogou': 46,\n",
       " 'TBot': 485,\n",
       " 'Virut': 33103,\n",
       " 'Weasel': 40000,\n",
       " 'Zero_access': 1234,\n",
       " 'Zeus': 283}"
      ]
     },
     "execution_count": 12,
     "metadata": {},
     "output_type": "execute_result"
    }
   ],
   "source": [
    "test_distribution"
   ]
  },
  {
   "cell_type": "code",
   "execution_count": 20,
   "metadata": {},
   "outputs": [],
   "source": [
    "test['find'] = out_my"
   ]
  },
  {
   "cell_type": "code",
   "execution_count": 21,
   "metadata": {},
   "outputs": [],
   "source": [
    "test = test[test['label']== out_my]"
   ]
  },
  {
   "cell_type": "code",
   "execution_count": 23,
   "metadata": {},
   "outputs": [],
   "source": [
    "for label,row in test.iterrows():\n",
    "    if row['label']==1:\n",
    "        for i in malicious_list:\n",
    "            if row['src'] in malicious_list[i] or row['dst'] in malicious_list[i]:\n",
    "                find_distribution[i] +=1\n",
    "                continue"
   ]
  },
  {
   "cell_type": "code",
   "execution_count": 24,
   "metadata": {
    "scrolled": true
   },
   "outputs": [
    {
     "data": {
      "text/plain": [
       "{'Black_hole_2': 19,\n",
       " 'Black_hole_3': 14,\n",
       " 'IRC': 10081,\n",
       " 'IRCbot_black_hole1': 16,\n",
       " 'Menti': 4537,\n",
       " 'Murlo': 8425,\n",
       " 'Neris': 19298,\n",
       " 'Osx_trojan': 14,\n",
       " 'RBot': 163,\n",
       " 'Smoke bot': 55,\n",
       " 'Sogou': 45,\n",
       " 'TBot': 443,\n",
       " 'Virut': 33073,\n",
       " 'Weasel': 39997,\n",
       " 'Zero_access': 303,\n",
       " 'Zeus': 225}"
      ]
     },
     "execution_count": 24,
     "metadata": {},
     "output_type": "execute_result"
    }
   ],
   "source": [
    "find_distribution"
   ]
  },
  {
   "cell_type": "code",
   "execution_count": 10,
   "metadata": {},
   "outputs": [],
   "source": [
    "cata = {'HTTP':['Virut','Sogou'],'IRC':['Neris','RBot', 'Menti','Murlo','TBot','IRC']}\n",
    "test_distribution = {'Black_hole_2': 19,\n",
    " 'Black_hole_3': 122,\n",
    " 'IRC': 10361,\n",
    " 'IRCbot_black_hole1': 38,\n",
    " 'Menti': 4539,\n",
    " 'Murlo': 8669,\n",
    " 'Neris': 19481,\n",
    " 'Osx_trojan': 15,\n",
    " 'RBot': 165,\n",
    " 'Smoke bot': 66,\n",
    " 'Sogou': 46,\n",
    " 'TBot': 485,\n",
    " 'Virut': 33103,\n",
    " 'Weasel': 40000,\n",
    " 'Zero_access': 1234,\n",
    " 'Zeus': 283}"
   ]
  },
  {
   "cell_type": "code",
   "execution_count": 16,
   "metadata": {},
   "outputs": [
    {
     "name": "stdout",
     "output_type": "stream",
     "text": [
      "33149 43700 41777\n"
     ]
    }
   ],
   "source": [
    "http = 0\n",
    "irc = 0\n",
    "p2p = 0\n",
    "for i in test_distribution:\n",
    "    if i in cata['HTTP']:\n",
    "        http += test_distribution[i]\n",
    "    elif i in cata['IRC']:\n",
    "        irc += test_distribution[i]\n",
    "    else:\n",
    "        p2p+=  test_distribution[i]\n",
    "\n",
    "print(http,irc,p2p)"
   ]
  },
  {
   "cell_type": "code",
   "execution_count": 17,
   "metadata": {},
   "outputs": [],
   "source": [
    "test_percentage = [33149, 43700, 41777]"
   ]
  },
  {
   "cell_type": "markdown",
   "metadata": {},
   "source": [
    "# Normal"
   ]
  },
  {
   "cell_type": "markdown",
   "metadata": {},
   "source": [
    "# Malicious"
   ]
  },
  {
   "cell_type": "code",
   "execution_count": 59,
   "metadata": {},
   "outputs": [],
   "source": [
    "mal_distribution = {}\n",
    "for i in malicious_list:\n",
    "    mal_distribution[i] = 0"
   ]
  },
  {
   "cell_type": "code",
   "execution_count": 61,
   "metadata": {},
   "outputs": [],
   "source": [
    "n = test[test['label'] == out_mal]"
   ]
  },
  {
   "cell_type": "code",
   "execution_count": 62,
   "metadata": {},
   "outputs": [],
   "source": [
    "for label,row in n.iterrows():\n",
    "    if row['label']==1:\n",
    "        for i in malicious_list:\n",
    "            if row['src'] in malicious_list[i] or row['dst'] in malicious_list[i]:\n",
    "                mal_distribution[i] +=1\n",
    "                continue"
   ]
  },
  {
   "cell_type": "code",
   "execution_count": 63,
   "metadata": {},
   "outputs": [
    {
     "name": "stdout",
     "output_type": "stream",
     "text": [
      "0.9980391565356421 0.9821967963386727 0.9744117576657012\n"
     ]
    }
   ],
   "source": [
    "http = 0\n",
    "irc = 0\n",
    "p2p = 0\n",
    "for i in mal_distribution:\n",
    "    if i in cata['HTTP']:\n",
    "        http += mal_distribution[i]\n",
    "    elif i in cata['IRC']:\n",
    "        irc += mal_distribution[i]\n",
    "    else:\n",
    "        p2p+=  mal_distribution[i]\n",
    "print(http/test_percentage[0],irc/test_percentage[1],p2p/test_percentage[2])"
   ]
  },
  {
   "cell_type": "code",
   "execution_count": 64,
   "metadata": {},
   "outputs": [],
   "source": [
    "percentage = {}\n",
    "for i in mal_distribution:\n",
    "    percentage[i] = mal_distribution[i]/test_distribution[i]\n"
   ]
  },
  {
   "cell_type": "code",
   "execution_count": 65,
   "metadata": {},
   "outputs": [
    {
     "data": {
      "text/plain": [
       "{'Black_hole_2': 0.21052631578947367,\n",
       " 'Black_hole_3': 0.1885245901639344,\n",
       " 'IRC': 0.9535759096612296,\n",
       " 'IRCbot_black_hole1': 0.47368421052631576,\n",
       " 'Menti': 0.9995593743115223,\n",
       " 'Murlo': 0.971623024570308,\n",
       " 'Neris': 0.998357373851445,\n",
       " 'Osx_trojan': 0.8,\n",
       " 'RBot': 0.9818181818181818,\n",
       " 'Smoke bot': 0.5454545454545454,\n",
       " 'Sogou': 0.9130434782608695,\n",
       " 'TBot': 0.9711340206185567,\n",
       " 'Virut': 0.9981572667129868,\n",
       " 'Weasel': 0.997725,\n",
       " 'Zero_access': 0.3946515397082658,\n",
       " 'Zeus': 0.773851590106007}"
      ]
     },
     "execution_count": 65,
     "metadata": {},
     "output_type": "execute_result"
    }
   ],
   "source": [
    "percentage"
   ]
  },
  {
   "cell_type": "markdown",
   "metadata": {},
   "source": [
    "# LSTM"
   ]
  },
  {
   "cell_type": "code",
   "execution_count": 69,
   "metadata": {},
   "outputs": [],
   "source": [
    "lstm_distribution = {}\n",
    "for i in malicious_list:\n",
    "    lstm_distribution[i] = 0"
   ]
  },
  {
   "cell_type": "code",
   "execution_count": 70,
   "metadata": {},
   "outputs": [],
   "source": [
    "n = rnn_test[rnn_test['label'] == out_lstm]"
   ]
  },
  {
   "cell_type": "code",
   "execution_count": 71,
   "metadata": {},
   "outputs": [],
   "source": [
    "for label,row in n.iterrows():\n",
    "    if row['label']==1:\n",
    "        for i in malicious_list:\n",
    "            if row['src'] in malicious_list[i] or row['dst'] in malicious_list[i]:\n",
    "                lstm_distribution[i] +=1\n",
    "                continue"
   ]
  },
  {
   "cell_type": "code",
   "execution_count": 72,
   "metadata": {},
   "outputs": [
    {
     "name": "stdout",
     "output_type": "stream",
     "text": [
      "0.9978581556004706 0.9696796338672768 0.9685712234004357\n"
     ]
    }
   ],
   "source": [
    "http = 0\n",
    "irc = 0\n",
    "p2p = 0\n",
    "for i in lstm_distribution:\n",
    "    if i in cata['HTTP']:\n",
    "        http += lstm_distribution[i]\n",
    "    elif i in cata['IRC']:\n",
    "        irc += lstm_distribution[i]\n",
    "    else:\n",
    "        p2p+=  lstm_distribution[i]\n",
    "print(http/test_percentage[0],irc/test_percentage[1],p2p/test_percentage[2])"
   ]
  },
  {
   "cell_type": "code",
   "execution_count": 73,
   "metadata": {},
   "outputs": [
    {
     "name": "stdout",
     "output_type": "stream",
     "text": [
      "{'IRC': 0.9269375542901265, 'Neris': 0.9857296853344284, 'RBot': 0.9575757575757575, 'Menti': 0.9991187486230447, 'Sogou': 0.8043478260869565, 'Murlo': 0.9704694889837352, 'Virut': 0.9981270579705767, 'IRCbot_black_hole1': 0.3684210526315789, 'Black_hole_2': 1.0, 'Black_hole_3': 0.04918032786885246, 'TBot': 0.9525773195876288, 'Weasel': 0.9994, 'Zeus': 0.7703180212014135, 'Osx_trojan': 0.9333333333333333, 'Zero_access': 0.16774716369529985, 'Smoke bot': 0.15151515151515152}\n"
     ]
    }
   ],
   "source": [
    "percentage = {}\n",
    "for i in lstm_distribution:\n",
    "    percentage[i] = lstm_distribution[i]/test_distribution[i]\n",
    "print(percentage)"
   ]
  },
  {
   "cell_type": "code",
   "execution_count": 74,
   "metadata": {},
   "outputs": [
    {
     "data": {
      "text/plain": [
       "{'Black_hole_2': 1.0,\n",
       " 'Black_hole_3': 0.04918032786885246,\n",
       " 'IRC': 0.9269375542901265,\n",
       " 'IRCbot_black_hole1': 0.3684210526315789,\n",
       " 'Menti': 0.9991187486230447,\n",
       " 'Murlo': 0.9704694889837352,\n",
       " 'Neris': 0.9857296853344284,\n",
       " 'Osx_trojan': 0.9333333333333333,\n",
       " 'RBot': 0.9575757575757575,\n",
       " 'Smoke bot': 0.15151515151515152,\n",
       " 'Sogou': 0.8043478260869565,\n",
       " 'TBot': 0.9525773195876288,\n",
       " 'Virut': 0.9981270579705767,\n",
       " 'Weasel': 0.9994,\n",
       " 'Zero_access': 0.16774716369529985,\n",
       " 'Zeus': 0.7703180212014135}"
      ]
     },
     "execution_count": 74,
     "metadata": {},
     "output_type": "execute_result"
    }
   ],
   "source": [
    "percentage"
   ]
  },
  {
   "cell_type": "markdown",
   "metadata": {},
   "source": [
    "# mY"
   ]
  },
  {
   "cell_type": "code",
   "execution_count": 20,
   "metadata": {},
   "outputs": [],
   "source": [
    "my_distribution = {}\n",
    "for i in malicious_list:\n",
    "    my_distribution[i] = 0"
   ]
  },
  {
   "cell_type": "code",
   "execution_count": 21,
   "metadata": {},
   "outputs": [],
   "source": [
    "n = test[test['label'] == out_my]"
   ]
  },
  {
   "cell_type": "code",
   "execution_count": 22,
   "metadata": {},
   "outputs": [],
   "source": [
    "for label,row in n.iterrows():\n",
    "    if row['label']==1:\n",
    "        for i in malicious_list:\n",
    "            if row['src'] in malicious_list[i] or row['dst'] in malicious_list[i]:\n",
    "                my_distribution[i] +=1\n",
    "                continue"
   ]
  },
  {
   "cell_type": "code",
   "execution_count": 23,
   "metadata": {},
   "outputs": [],
   "source": [
    "http = 0\n",
    "irc = 0\n",
    "p2p = 0\n",
    "for i in my_distribution:\n",
    "    if i in cata['HTTP']:\n",
    "        http += my_distribution[i]\n",
    "    elif i in cata['IRC']:\n",
    "        irc += my_distribution[i]\n",
    "    else:\n",
    "        p2p+=  my_distribution[i]\n"
   ]
  },
  {
   "cell_type": "code",
   "execution_count": 24,
   "metadata": {},
   "outputs": [
    {
     "name": "stdout",
     "output_type": "stream",
     "text": [
      "0.9990648285016139 0.9827688787185355 0.9728558776360198\n"
     ]
    }
   ],
   "source": [
    "print(http/test_percentage[0],irc/test_percentage[1],p2p/test_percentage[2])"
   ]
  },
  {
   "cell_type": "code",
   "execution_count": 26,
   "metadata": {},
   "outputs": [],
   "source": [
    "percentage = {}\n",
    "for i in my_distribution:\n",
    "    percentage[i] = my_distribution[i]/test_distribution[i]\n"
   ]
  },
  {
   "cell_type": "code",
   "execution_count": 27,
   "metadata": {},
   "outputs": [
    {
     "data": {
      "text/plain": [
       "{'Black_hole_2': 1.0,\n",
       " 'Black_hole_3': 0.11475409836065574,\n",
       " 'IRC': 0.9729755815075765,\n",
       " 'IRCbot_black_hole1': 0.42105263157894735,\n",
       " 'Menti': 0.9995593743115223,\n",
       " 'Murlo': 0.9718537316876226,\n",
       " 'Neris': 0.990606231712951,\n",
       " 'Osx_trojan': 0.9333333333333333,\n",
       " 'RBot': 0.9878787878787879,\n",
       " 'Smoke bot': 0.8333333333333334,\n",
       " 'Sogou': 0.9782608695652174,\n",
       " 'TBot': 0.9134020618556701,\n",
       " 'Virut': 0.9990937377276984,\n",
       " 'Weasel': 0.999925,\n",
       " 'Zero_access': 0.24554294975688817,\n",
       " 'Zeus': 0.7950530035335689}"
      ]
     },
     "execution_count": 27,
     "metadata": {},
     "output_type": "execute_result"
    }
   ],
   "source": [
    "percentage"
   ]
  },
  {
   "cell_type": "markdown",
   "metadata": {},
   "source": [
    "# RC"
   ]
  },
  {
   "cell_type": "code",
   "execution_count": 55,
   "metadata": {},
   "outputs": [],
   "source": [
    "rc_distribution = {}\n",
    "for i in malicious_list:\n",
    "    rc_distribution[i] = 0"
   ]
  },
  {
   "cell_type": "code",
   "execution_count": 56,
   "metadata": {},
   "outputs": [],
   "source": [
    "n = rnn_test[rnn_test['label'] == out_cr]"
   ]
  },
  {
   "cell_type": "code",
   "execution_count": 57,
   "metadata": {},
   "outputs": [],
   "source": [
    "for label,row in n.iterrows():\n",
    "    if row['label']==1:\n",
    "        for i in malicious_list:\n",
    "            if row['src'] in malicious_list[i] or row['dst'] in malicious_list[i]:\n",
    "                rc_distribution[i] +=1\n",
    "                continue"
   ]
  },
  {
   "cell_type": "code",
   "execution_count": 58,
   "metadata": {},
   "outputs": [
    {
     "name": "stdout",
     "output_type": "stream",
     "text": [
      "0.9992156626142569 0.9865217391304347 0.9682361107786581\n"
     ]
    }
   ],
   "source": [
    "http = 0\n",
    "irc = 0\n",
    "p2p = 0\n",
    "for i in rc_distribution:\n",
    "    if i in cata['HTTP']:\n",
    "        http += rc_distribution[i]\n",
    "    elif i in cata['IRC']:\n",
    "        irc += rc_distribution[i]\n",
    "    else:\n",
    "        p2p+=  rc_distribution[i]\n",
    "print(http/test_percentage[0],irc/test_percentage[1],p2p/test_percentage[2])"
   ]
  },
  {
   "cell_type": "code",
   "execution_count": 61,
   "metadata": {},
   "outputs": [],
   "source": [
    "percentage = {}\n",
    "for i in rc_distribution:\n",
    "    percentage[i] = rc_distribution[i]/test_distribution[i]\n",
    "print(percentage)"
   ]
  },
  {
   "cell_type": "code",
   "execution_count": 62,
   "metadata": {},
   "outputs": [
    {
     "data": {
      "text/plain": [
       "{'Black_hole_2': 1.0,\n",
       " 'Black_hole_3': 0.05737704918032787,\n",
       " 'IRC': 0.9725895183862562,\n",
       " 'IRCbot_black_hole1': 0.2631578947368421,\n",
       " 'Menti': 0.9995593743115223,\n",
       " 'Murlo': 0.9721997923635944,\n",
       " 'Neris': 0.9979980493814485,\n",
       " 'Osx_trojan': 0.2,\n",
       " 'RBot': 0.9878787878787879,\n",
       " 'Smoke bot': 0.5909090909090909,\n",
       " 'Sogou': 1.0,\n",
       " 'TBot': 0.9567010309278351,\n",
       " 'Virut': 0.9992145726973386,\n",
       " 'Weasel': 0.9993,\n",
       " 'Zero_access': 0.14991896272285252,\n",
       " 'Zeus': 0.7597173144876325}"
      ]
     },
     "execution_count": 62,
     "metadata": {},
     "output_type": "execute_result"
    }
   ],
   "source": [
    "percentage"
   ]
  },
  {
   "cell_type": "markdown",
   "metadata": {},
   "source": [
    "# LSTM"
   ]
  },
  {
   "cell_type": "code",
   "execution_count": 24,
   "metadata": {},
   "outputs": [],
   "source": [
    "overlstm_distribution = {}\n",
    "for i in malicious_list:\n",
    "    overlstm_distribution[i] = 0\n"
   ]
  },
  {
   "cell_type": "code",
   "execution_count": 29,
   "metadata": {
    "scrolled": false
   },
   "outputs": [],
   "source": [
    "rnn_test['predict'] = out_lstm"
   ]
  },
  {
   "cell_type": "code",
   "execution_count": 30,
   "metadata": {},
   "outputs": [],
   "source": [
    "rnn_test = rnn_test[rnn_test['label']==out_lstm]"
   ]
  },
  {
   "cell_type": "code",
   "execution_count": 32,
   "metadata": {},
   "outputs": [],
   "source": [
    "for label,row in rnn_test.iterrows():\n",
    "    if row['label']==1:\n",
    "        for i in malicious_list:\n",
    "            if row['src'] in malicious_list[i] or row['dst'] in malicious_list[i]:\n",
    "                overlstm_distribution[i] +=1\n",
    "                continue"
   ]
  },
  {
   "cell_type": "code",
   "execution_count": 51,
   "metadata": {},
   "outputs": [],
   "source": [
    "overlstm_distribution = {'Black_hole_2': 18,\n",
    " 'Black_hole_3': 67,\n",
    " 'IRC': 10171,\n",
    " 'IRCbot_black_hole1': 17,\n",
    " 'Menti': 4537,\n",
    " 'Murlo': 8449,\n",
    " 'Neris': 19398,\n",
    " 'Osx_trojan': 13,\n",
    " 'RBot': 160,\n",
    " 'Smoke bot': 43,\n",
    " 'Sogou': 43,\n",
    " 'TBot': 482,\n",
    " 'Virut': 33093,\n",
    " 'Weasel': 39978,\n",
    " 'Zero_access': 499,\n",
    " 'Zeus': 261}"
   ]
  },
  {
   "cell_type": "code",
   "execution_count": 52,
   "metadata": {},
   "outputs": [],
   "source": [
    "http = 0\n",
    "irc = 0\n",
    "p2p = 0\n",
    "for i in overlstm_distribution:\n",
    "    if i in cata['HTTP']:\n",
    "        http += overlstm_distribution[i]\n",
    "    elif i in cata['IRC']:\n",
    "        irc += overlstm_distribution[i]\n",
    "    else:\n",
    "        p2p+=  overlstm_distribution[i]"
   ]
  },
  {
   "cell_type": "code",
   "execution_count": 53,
   "metadata": {
    "scrolled": false
   },
   "outputs": [
    {
     "name": "stdout",
     "output_type": "stream",
     "text": [
      "0.9996078313071284 0.9884897025171625 0.9789118414438567\n"
     ]
    }
   ],
   "source": [
    "print(http/test_percentage[0],irc/test_percentage[1],p2p/test_percentage[2])"
   ]
  },
  {
   "cell_type": "code",
   "execution_count": 55,
   "metadata": {},
   "outputs": [],
   "source": [
    "percentage = {}\n",
    "for i in overlstm_distribution:\n",
    "    percentage[i] = overlstm_distribution[i]/test_distribution[i]"
   ]
  },
  {
   "cell_type": "code",
   "execution_count": 56,
   "metadata": {},
   "outputs": [
    {
     "data": {
      "text/plain": [
       "{'Black_hole_2': 0.9473684210526315,\n",
       " 'Black_hole_3': 0.5491803278688525,\n",
       " 'IRC': 0.981662001737284,\n",
       " 'IRCbot_black_hole1': 0.4473684210526316,\n",
       " 'Menti': 0.9995593743115223,\n",
       " 'Murlo': 0.9746222170953974,\n",
       " 'Neris': 0.9957394384271855,\n",
       " 'Osx_trojan': 0.8666666666666667,\n",
       " 'RBot': 0.9696969696969697,\n",
       " 'Smoke bot': 0.6515151515151515,\n",
       " 'Sogou': 0.9347826086956522,\n",
       " 'TBot': 0.9938144329896907,\n",
       " 'Virut': 0.9996979125758995,\n",
       " 'Weasel': 0.99945,\n",
       " 'Zero_access': 0.40437601296596437,\n",
       " 'Zeus': 0.9222614840989399}"
      ]
     },
     "execution_count": 56,
     "metadata": {},
     "output_type": "execute_result"
    }
   ],
   "source": [
    "percentage"
   ]
  },
  {
   "cell_type": "markdown",
   "metadata": {},
   "source": [
    "# My"
   ]
  },
  {
   "cell_type": "code",
   "execution_count": 82,
   "metadata": {},
   "outputs": [],
   "source": [
    "overmy_distribution = {}\n",
    "for i in malicious_list:\n",
    "    overmy_distribution[i] = 0"
   ]
  },
  {
   "cell_type": "code",
   "execution_count": 83,
   "metadata": {},
   "outputs": [],
   "source": [
    "n = test[test['label'] == out_my]"
   ]
  },
  {
   "cell_type": "code",
   "execution_count": 84,
   "metadata": {},
   "outputs": [],
   "source": [
    "for label,row in n.iterrows():\n",
    "    if row['label']==1:\n",
    "        for i in malicious_list:\n",
    "            if row['src'] in malicious_list[i] or row['dst'] in malicious_list[i]:\n",
    "                overmy_distribution[i] +=1\n",
    "                continue"
   ]
  },
  {
   "cell_type": "code",
   "execution_count": 85,
   "metadata": {},
   "outputs": [],
   "source": [
    "http = 0\n",
    "irc = 0\n",
    "p2p = 0\n",
    "for i in overmy_distribution:\n",
    "    if i in cata['HTTP']:\n",
    "        http += overmy_distribution[i]\n",
    "    elif i in cata['IRC']:\n",
    "        irc += overmy_distribution[i]\n",
    "    else:\n",
    "        p2p+=  overmy_distribution[i]"
   ]
  },
  {
   "cell_type": "code",
   "execution_count": 86,
   "metadata": {},
   "outputs": [
    {
     "name": "stdout",
     "output_type": "stream",
     "text": [
      "0.9993966635494284 0.9849427917620137 0.9724250185508773\n"
     ]
    }
   ],
   "source": [
    "print(http/test_percentage[0],irc/test_percentage[1],p2p/test_percentage[2])"
   ]
  },
  {
   "cell_type": "code",
   "execution_count": 87,
   "metadata": {},
   "outputs": [],
   "source": [
    "percentage = {}\n",
    "for i in rc_distribution:\n",
    "    percentage[i] = overmy_distribution[i]/test_distribution[i]\n"
   ]
  },
  {
   "cell_type": "code",
   "execution_count": 88,
   "metadata": {},
   "outputs": [
    {
     "data": {
      "text/plain": [
       "{'Black_hole_2': 0.8947368421052632,\n",
       " 'Black_hole_3': 0.27049180327868855,\n",
       " 'IRC': 0.9628414245729177,\n",
       " 'IRCbot_black_hole1': 0.39473684210526316,\n",
       " 'Menti': 0.9971359330248953,\n",
       " 'Murlo': 0.974045449302111,\n",
       " 'Neris': 0.9989220265900107,\n",
       " 'Osx_trojan': 0.8666666666666667,\n",
       " 'RBot': 0.9939393939393939,\n",
       " 'Smoke bot': 0.696969696969697,\n",
       " 'Sogou': 0.9565217391304348,\n",
       " 'TBot': 0.9731958762886598,\n",
       " 'Virut': 0.999456242636619,\n",
       " 'Weasel': 0.9996,\n",
       " 'Zero_access': 0.22690437601296595,\n",
       " 'Zeus': 0.8374558303886925}"
      ]
     },
     "execution_count": 88,
     "metadata": {},
     "output_type": "execute_result"
    }
   ],
   "source": [
    "percentage"
   ]
  },
  {
   "cell_type": "markdown",
   "metadata": {},
   "source": [
    "# Malicious"
   ]
  },
  {
   "cell_type": "code",
   "execution_count": 45,
   "metadata": {},
   "outputs": [],
   "source": [
    "overmal_distribution = {}\n",
    "for i in malicious_list:\n",
    "    overmal_distribution[i] = 0"
   ]
  },
  {
   "cell_type": "code",
   "execution_count": 46,
   "metadata": {},
   "outputs": [],
   "source": [
    "n = test[test['label'] == out_mal]"
   ]
  },
  {
   "cell_type": "code",
   "execution_count": 47,
   "metadata": {},
   "outputs": [],
   "source": [
    "for label,row in n.iterrows():\n",
    "    if row['label']==1:\n",
    "        for i in malicious_list:\n",
    "            if row['src'] in malicious_list[i] or row['dst'] in malicious_list[i]:\n",
    "                overmal_distribution[i] +=1\n",
    "                continue"
   ]
  },
  {
   "cell_type": "code",
   "execution_count": 48,
   "metadata": {},
   "outputs": [
    {
     "name": "stdout",
     "output_type": "stream",
     "text": [
      "0.9982503242933422 0.9754919908466819 0.9667281039806592\n"
     ]
    }
   ],
   "source": [
    "http = 0\n",
    "irc = 0\n",
    "p2p = 0\n",
    "for i in overmal_distribution:\n",
    "    if i in cata['HTTP']:\n",
    "        http += overmal_distribution[i]\n",
    "    elif i in cata['IRC']:\n",
    "        irc += overmal_distribution[i]\n",
    "    else:\n",
    "        p2p+=  overmal_distribution[i]\n",
    "print(http/test_percentage[0],irc/test_percentage[1],p2p/test_percentage[2])"
   ]
  },
  {
   "cell_type": "code",
   "execution_count": 49,
   "metadata": {},
   "outputs": [],
   "source": [
    "percentage = {}\n",
    "for i in overmal_distribution:\n",
    "    percentage[i] = overmal_distribution[i]/test_distribution[i]"
   ]
  },
  {
   "cell_type": "code",
   "execution_count": 50,
   "metadata": {},
   "outputs": [
    {
     "data": {
      "text/plain": [
       "{'Black_hole_2': 0.15789473684210525,\n",
       " 'Black_hole_3': 0.1885245901639344,\n",
       " 'IRC': 0.9425731107036001,\n",
       " 'IRCbot_black_hole1': 0.42105263157894735,\n",
       " 'Menti': 0.9955937431152236,\n",
       " 'Murlo': 0.9709309032183643,\n",
       " 'Neris': 0.9955854422257584,\n",
       " 'Osx_trojan': 0.8,\n",
       " 'RBot': 0.9878787878787879,\n",
       " 'Smoke bot': 0.5151515151515151,\n",
       " 'Sogou': 0.9347826086956522,\n",
       " 'TBot': 0.7608247422680412,\n",
       " 'Virut': 0.9983385191674471,\n",
       " 'Weasel': 0.998275,\n",
       " 'Zero_access': 0.12560777957860617,\n",
       " 'Zeus': 0.7526501766784452}"
      ]
     },
     "execution_count": 50,
     "metadata": {},
     "output_type": "execute_result"
    }
   ],
   "source": [
    "percentage"
   ]
  },
  {
   "cell_type": "markdown",
   "metadata": {},
   "source": [
    "# RC"
   ]
  },
  {
   "cell_type": "code",
   "execution_count": 35,
   "metadata": {},
   "outputs": [],
   "source": [
    "overrc_distribution = {}\n",
    "for i in malicious_list:\n",
    "    overrc_distribution[i] = 0"
   ]
  },
  {
   "cell_type": "code",
   "execution_count": 25,
   "metadata": {},
   "outputs": [],
   "source": [
    "n = rnn_test[rnn_test['label'] == out_over_cr]"
   ]
  },
  {
   "cell_type": "code",
   "execution_count": 36,
   "metadata": {},
   "outputs": [],
   "source": [
    "for label,row in n.iterrows():\n",
    "    if row['label']==1:\n",
    "        for i in malicious_list:\n",
    "            if row['src'] in malicious_list[i] or row['dst'] in malicious_list[i]:\n",
    "                overrc_distribution[i] +=1\n",
    "                continue"
   ]
  },
  {
   "cell_type": "code",
   "execution_count": 40,
   "metadata": {},
   "outputs": [],
   "source": [
    "http = 0\n",
    "irc = 0\n",
    "p2p = 0\n",
    "for i in overrc_distribution:\n",
    "    if i in cata['HTTP']:\n",
    "        http += overrc_distribution[i]\n",
    "    elif i in cata['IRC']:\n",
    "        irc += overrc_distribution[i]\n",
    "    else:\n",
    "        p2p+=  overrc_distribution[i]"
   ]
  },
  {
   "cell_type": "code",
   "execution_count": 42,
   "metadata": {},
   "outputs": [
    {
     "name": "stdout",
     "output_type": "stream",
     "text": [
      "0.9982201574708136 0.9872768878718535 0.9656988294994854\n"
     ]
    }
   ],
   "source": [
    "print(http/test_percentage[0],irc/test_percentage[1],p2p/test_percentage[2])"
   ]
  },
  {
   "cell_type": "code",
   "execution_count": 45,
   "metadata": {},
   "outputs": [],
   "source": [
    "percentage = {}\n",
    "for i in overrc_distribution:\n",
    "    percentage[i] = overrc_distribution[i]/test_distribution[i]"
   ]
  },
  {
   "cell_type": "code",
   "execution_count": 46,
   "metadata": {},
   "outputs": [
    {
     "data": {
      "text/plain": [
       "{'Black_hole_2': 0.9473684210526315,\n",
       " 'Black_hole_3': 0.13114754098360656,\n",
       " 'IRC': 0.9792491072290319,\n",
       " 'IRCbot_black_hole1': 0.39473684210526316,\n",
       " 'Menti': 0.9973562458691342,\n",
       " 'Murlo': 0.9723151459222517,\n",
       " 'Neris': 0.9997433396642883,\n",
       " 'Osx_trojan': 0.7333333333333333,\n",
       " 'RBot': 0.9878787878787879,\n",
       " 'Smoke bot': 0.6818181818181818,\n",
       " 'Sogou': 0.9782608695652174,\n",
       " 'TBot': 0.8309278350515464,\n",
       " 'Virut': 0.9982478929402169,\n",
       " 'Weasel': 0.99795,\n",
       " 'Zero_access': 0.08508914100486224,\n",
       " 'Zeus': 0.7632508833922261}"
      ]
     },
     "execution_count": 46,
     "metadata": {},
     "output_type": "execute_result"
    }
   ],
   "source": [
    "percentage"
   ]
  }
 ],
 "metadata": {
  "kernelspec": {
   "display_name": "Python 3",
   "language": "python",
   "name": "python3"
  },
  "language_info": {
   "codemirror_mode": {
    "name": "ipython",
    "version": 3
   },
   "file_extension": ".py",
   "mimetype": "text/x-python",
   "name": "python",
   "nbconvert_exporter": "python",
   "pygments_lexer": "ipython3",
   "version": "3.7.3"
  }
 },
 "nbformat": 4,
 "nbformat_minor": 2
}
